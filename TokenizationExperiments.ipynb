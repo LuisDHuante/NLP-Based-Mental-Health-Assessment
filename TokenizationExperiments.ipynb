{
  "nbformat": 4,
  "nbformat_minor": 0,
  "metadata": {
    "colab": {
      "provenance": []
    },
    "kernelspec": {
      "name": "python3",
      "display_name": "Python 3"
    },
    "language_info": {
      "name": "python"
    },
    "widgets": {
      "application/vnd.jupyter.widget-state+json": {
        "d52cfd93336f4512919c2cf9e3ffa805": {
          "model_module": "@jupyter-widgets/controls",
          "model_name": "HBoxModel",
          "model_module_version": "1.5.0",
          "state": {
            "_dom_classes": [],
            "_model_module": "@jupyter-widgets/controls",
            "_model_module_version": "1.5.0",
            "_model_name": "HBoxModel",
            "_view_count": null,
            "_view_module": "@jupyter-widgets/controls",
            "_view_module_version": "1.5.0",
            "_view_name": "HBoxView",
            "box_style": "",
            "children": [
              "IPY_MODEL_10d1a72e3f2347e0bdd65cadf44c5e5c",
              "IPY_MODEL_c0a6e3ec35fe4746984e777165ad2094",
              "IPY_MODEL_58c88c7dbe82434e9823f066bbf811a8"
            ],
            "layout": "IPY_MODEL_8a60bad352574d438ec210f6978026c7"
          }
        },
        "10d1a72e3f2347e0bdd65cadf44c5e5c": {
          "model_module": "@jupyter-widgets/controls",
          "model_name": "HTMLModel",
          "model_module_version": "1.5.0",
          "state": {
            "_dom_classes": [],
            "_model_module": "@jupyter-widgets/controls",
            "_model_module_version": "1.5.0",
            "_model_name": "HTMLModel",
            "_view_count": null,
            "_view_module": "@jupyter-widgets/controls",
            "_view_module_version": "1.5.0",
            "_view_name": "HTMLView",
            "description": "",
            "description_tooltip": null,
            "layout": "IPY_MODEL_d94f37e453c54014b4ff3f18eaf945de",
            "placeholder": "​",
            "style": "IPY_MODEL_eec90f40b7d5401abb988b6ab6b9cc7b",
            "value": "Downloading (…)okenizer_config.json: 100%"
          }
        },
        "c0a6e3ec35fe4746984e777165ad2094": {
          "model_module": "@jupyter-widgets/controls",
          "model_name": "FloatProgressModel",
          "model_module_version": "1.5.0",
          "state": {
            "_dom_classes": [],
            "_model_module": "@jupyter-widgets/controls",
            "_model_module_version": "1.5.0",
            "_model_name": "FloatProgressModel",
            "_view_count": null,
            "_view_module": "@jupyter-widgets/controls",
            "_view_module_version": "1.5.0",
            "_view_name": "ProgressView",
            "bar_style": "success",
            "description": "",
            "description_tooltip": null,
            "layout": "IPY_MODEL_255ec6c393fe49cea0e4b990b90d05de",
            "max": 310,
            "min": 0,
            "orientation": "horizontal",
            "style": "IPY_MODEL_f341913b2a964c558de7dee7576d89f4",
            "value": 310
          }
        },
        "58c88c7dbe82434e9823f066bbf811a8": {
          "model_module": "@jupyter-widgets/controls",
          "model_name": "HTMLModel",
          "model_module_version": "1.5.0",
          "state": {
            "_dom_classes": [],
            "_model_module": "@jupyter-widgets/controls",
            "_model_module_version": "1.5.0",
            "_model_name": "HTMLModel",
            "_view_count": null,
            "_view_module": "@jupyter-widgets/controls",
            "_view_module_version": "1.5.0",
            "_view_name": "HTMLView",
            "description": "",
            "description_tooltip": null,
            "layout": "IPY_MODEL_857cbc794d3f4ed9b1477c27ded46817",
            "placeholder": "​",
            "style": "IPY_MODEL_e7fbc346d11e4f5497bea5984c0c3c22",
            "value": " 310/310 [00:00&lt;00:00, 5.13kB/s]"
          }
        },
        "8a60bad352574d438ec210f6978026c7": {
          "model_module": "@jupyter-widgets/base",
          "model_name": "LayoutModel",
          "model_module_version": "1.2.0",
          "state": {
            "_model_module": "@jupyter-widgets/base",
            "_model_module_version": "1.2.0",
            "_model_name": "LayoutModel",
            "_view_count": null,
            "_view_module": "@jupyter-widgets/base",
            "_view_module_version": "1.2.0",
            "_view_name": "LayoutView",
            "align_content": null,
            "align_items": null,
            "align_self": null,
            "border": null,
            "bottom": null,
            "display": null,
            "flex": null,
            "flex_flow": null,
            "grid_area": null,
            "grid_auto_columns": null,
            "grid_auto_flow": null,
            "grid_auto_rows": null,
            "grid_column": null,
            "grid_gap": null,
            "grid_row": null,
            "grid_template_areas": null,
            "grid_template_columns": null,
            "grid_template_rows": null,
            "height": null,
            "justify_content": null,
            "justify_items": null,
            "left": null,
            "margin": null,
            "max_height": null,
            "max_width": null,
            "min_height": null,
            "min_width": null,
            "object_fit": null,
            "object_position": null,
            "order": null,
            "overflow": null,
            "overflow_x": null,
            "overflow_y": null,
            "padding": null,
            "right": null,
            "top": null,
            "visibility": null,
            "width": null
          }
        },
        "d94f37e453c54014b4ff3f18eaf945de": {
          "model_module": "@jupyter-widgets/base",
          "model_name": "LayoutModel",
          "model_module_version": "1.2.0",
          "state": {
            "_model_module": "@jupyter-widgets/base",
            "_model_module_version": "1.2.0",
            "_model_name": "LayoutModel",
            "_view_count": null,
            "_view_module": "@jupyter-widgets/base",
            "_view_module_version": "1.2.0",
            "_view_name": "LayoutView",
            "align_content": null,
            "align_items": null,
            "align_self": null,
            "border": null,
            "bottom": null,
            "display": null,
            "flex": null,
            "flex_flow": null,
            "grid_area": null,
            "grid_auto_columns": null,
            "grid_auto_flow": null,
            "grid_auto_rows": null,
            "grid_column": null,
            "grid_gap": null,
            "grid_row": null,
            "grid_template_areas": null,
            "grid_template_columns": null,
            "grid_template_rows": null,
            "height": null,
            "justify_content": null,
            "justify_items": null,
            "left": null,
            "margin": null,
            "max_height": null,
            "max_width": null,
            "min_height": null,
            "min_width": null,
            "object_fit": null,
            "object_position": null,
            "order": null,
            "overflow": null,
            "overflow_x": null,
            "overflow_y": null,
            "padding": null,
            "right": null,
            "top": null,
            "visibility": null,
            "width": null
          }
        },
        "eec90f40b7d5401abb988b6ab6b9cc7b": {
          "model_module": "@jupyter-widgets/controls",
          "model_name": "DescriptionStyleModel",
          "model_module_version": "1.5.0",
          "state": {
            "_model_module": "@jupyter-widgets/controls",
            "_model_module_version": "1.5.0",
            "_model_name": "DescriptionStyleModel",
            "_view_count": null,
            "_view_module": "@jupyter-widgets/base",
            "_view_module_version": "1.2.0",
            "_view_name": "StyleView",
            "description_width": ""
          }
        },
        "255ec6c393fe49cea0e4b990b90d05de": {
          "model_module": "@jupyter-widgets/base",
          "model_name": "LayoutModel",
          "model_module_version": "1.2.0",
          "state": {
            "_model_module": "@jupyter-widgets/base",
            "_model_module_version": "1.2.0",
            "_model_name": "LayoutModel",
            "_view_count": null,
            "_view_module": "@jupyter-widgets/base",
            "_view_module_version": "1.2.0",
            "_view_name": "LayoutView",
            "align_content": null,
            "align_items": null,
            "align_self": null,
            "border": null,
            "bottom": null,
            "display": null,
            "flex": null,
            "flex_flow": null,
            "grid_area": null,
            "grid_auto_columns": null,
            "grid_auto_flow": null,
            "grid_auto_rows": null,
            "grid_column": null,
            "grid_gap": null,
            "grid_row": null,
            "grid_template_areas": null,
            "grid_template_columns": null,
            "grid_template_rows": null,
            "height": null,
            "justify_content": null,
            "justify_items": null,
            "left": null,
            "margin": null,
            "max_height": null,
            "max_width": null,
            "min_height": null,
            "min_width": null,
            "object_fit": null,
            "object_position": null,
            "order": null,
            "overflow": null,
            "overflow_x": null,
            "overflow_y": null,
            "padding": null,
            "right": null,
            "top": null,
            "visibility": null,
            "width": null
          }
        },
        "f341913b2a964c558de7dee7576d89f4": {
          "model_module": "@jupyter-widgets/controls",
          "model_name": "ProgressStyleModel",
          "model_module_version": "1.5.0",
          "state": {
            "_model_module": "@jupyter-widgets/controls",
            "_model_module_version": "1.5.0",
            "_model_name": "ProgressStyleModel",
            "_view_count": null,
            "_view_module": "@jupyter-widgets/base",
            "_view_module_version": "1.2.0",
            "_view_name": "StyleView",
            "bar_color": null,
            "description_width": ""
          }
        },
        "857cbc794d3f4ed9b1477c27ded46817": {
          "model_module": "@jupyter-widgets/base",
          "model_name": "LayoutModel",
          "model_module_version": "1.2.0",
          "state": {
            "_model_module": "@jupyter-widgets/base",
            "_model_module_version": "1.2.0",
            "_model_name": "LayoutModel",
            "_view_count": null,
            "_view_module": "@jupyter-widgets/base",
            "_view_module_version": "1.2.0",
            "_view_name": "LayoutView",
            "align_content": null,
            "align_items": null,
            "align_self": null,
            "border": null,
            "bottom": null,
            "display": null,
            "flex": null,
            "flex_flow": null,
            "grid_area": null,
            "grid_auto_columns": null,
            "grid_auto_flow": null,
            "grid_auto_rows": null,
            "grid_column": null,
            "grid_gap": null,
            "grid_row": null,
            "grid_template_areas": null,
            "grid_template_columns": null,
            "grid_template_rows": null,
            "height": null,
            "justify_content": null,
            "justify_items": null,
            "left": null,
            "margin": null,
            "max_height": null,
            "max_width": null,
            "min_height": null,
            "min_width": null,
            "object_fit": null,
            "object_position": null,
            "order": null,
            "overflow": null,
            "overflow_x": null,
            "overflow_y": null,
            "padding": null,
            "right": null,
            "top": null,
            "visibility": null,
            "width": null
          }
        },
        "e7fbc346d11e4f5497bea5984c0c3c22": {
          "model_module": "@jupyter-widgets/controls",
          "model_name": "DescriptionStyleModel",
          "model_module_version": "1.5.0",
          "state": {
            "_model_module": "@jupyter-widgets/controls",
            "_model_module_version": "1.5.0",
            "_model_name": "DescriptionStyleModel",
            "_view_count": null,
            "_view_module": "@jupyter-widgets/base",
            "_view_module_version": "1.2.0",
            "_view_name": "StyleView",
            "description_width": ""
          }
        },
        "b362428eb1b448fdba31ffae7937599c": {
          "model_module": "@jupyter-widgets/controls",
          "model_name": "HBoxModel",
          "model_module_version": "1.5.0",
          "state": {
            "_dom_classes": [],
            "_model_module": "@jupyter-widgets/controls",
            "_model_module_version": "1.5.0",
            "_model_name": "HBoxModel",
            "_view_count": null,
            "_view_module": "@jupyter-widgets/controls",
            "_view_module_version": "1.5.0",
            "_view_name": "HBoxView",
            "box_style": "",
            "children": [
              "IPY_MODEL_404fc2de0cb54df5bb25c6b75fef9832",
              "IPY_MODEL_d2327a6178cc4bb1bb734dcd4f8c6591",
              "IPY_MODEL_01bc746a1a34497bb25b3f4574fd50cd"
            ],
            "layout": "IPY_MODEL_6f45afa2c1c14a54bc7870fccfc8067d"
          }
        },
        "404fc2de0cb54df5bb25c6b75fef9832": {
          "model_module": "@jupyter-widgets/controls",
          "model_name": "HTMLModel",
          "model_module_version": "1.5.0",
          "state": {
            "_dom_classes": [],
            "_model_module": "@jupyter-widgets/controls",
            "_model_module_version": "1.5.0",
            "_model_name": "HTMLModel",
            "_view_count": null,
            "_view_module": "@jupyter-widgets/controls",
            "_view_module_version": "1.5.0",
            "_view_name": "HTMLView",
            "description": "",
            "description_tooltip": null,
            "layout": "IPY_MODEL_86a508d6a4b74529ab61d1098ff142b2",
            "placeholder": "​",
            "style": "IPY_MODEL_0b5f8c6fbea643199e807d9f5bf4fcc4",
            "value": "Downloading (…)lve/main/config.json: 100%"
          }
        },
        "d2327a6178cc4bb1bb734dcd4f8c6591": {
          "model_module": "@jupyter-widgets/controls",
          "model_name": "FloatProgressModel",
          "model_module_version": "1.5.0",
          "state": {
            "_dom_classes": [],
            "_model_module": "@jupyter-widgets/controls",
            "_model_module_version": "1.5.0",
            "_model_name": "FloatProgressModel",
            "_view_count": null,
            "_view_module": "@jupyter-widgets/controls",
            "_view_module_version": "1.5.0",
            "_view_name": "ProgressView",
            "bar_style": "success",
            "description": "",
            "description_tooltip": null,
            "layout": "IPY_MODEL_d761648293d44a4788638341491b852a",
            "max": 650,
            "min": 0,
            "orientation": "horizontal",
            "style": "IPY_MODEL_61a7923957a74c589bb45a1eb31dbbff",
            "value": 650
          }
        },
        "01bc746a1a34497bb25b3f4574fd50cd": {
          "model_module": "@jupyter-widgets/controls",
          "model_name": "HTMLModel",
          "model_module_version": "1.5.0",
          "state": {
            "_dom_classes": [],
            "_model_module": "@jupyter-widgets/controls",
            "_model_module_version": "1.5.0",
            "_model_name": "HTMLModel",
            "_view_count": null,
            "_view_module": "@jupyter-widgets/controls",
            "_view_module_version": "1.5.0",
            "_view_name": "HTMLView",
            "description": "",
            "description_tooltip": null,
            "layout": "IPY_MODEL_50dd7b3d07b5482692138e62cf94eaf4",
            "placeholder": "​",
            "style": "IPY_MODEL_d1ef6021692f472fb2cb8067ae09418d",
            "value": " 650/650 [00:00&lt;00:00, 8.10kB/s]"
          }
        },
        "6f45afa2c1c14a54bc7870fccfc8067d": {
          "model_module": "@jupyter-widgets/base",
          "model_name": "LayoutModel",
          "model_module_version": "1.2.0",
          "state": {
            "_model_module": "@jupyter-widgets/base",
            "_model_module_version": "1.2.0",
            "_model_name": "LayoutModel",
            "_view_count": null,
            "_view_module": "@jupyter-widgets/base",
            "_view_module_version": "1.2.0",
            "_view_name": "LayoutView",
            "align_content": null,
            "align_items": null,
            "align_self": null,
            "border": null,
            "bottom": null,
            "display": null,
            "flex": null,
            "flex_flow": null,
            "grid_area": null,
            "grid_auto_columns": null,
            "grid_auto_flow": null,
            "grid_auto_rows": null,
            "grid_column": null,
            "grid_gap": null,
            "grid_row": null,
            "grid_template_areas": null,
            "grid_template_columns": null,
            "grid_template_rows": null,
            "height": null,
            "justify_content": null,
            "justify_items": null,
            "left": null,
            "margin": null,
            "max_height": null,
            "max_width": null,
            "min_height": null,
            "min_width": null,
            "object_fit": null,
            "object_position": null,
            "order": null,
            "overflow": null,
            "overflow_x": null,
            "overflow_y": null,
            "padding": null,
            "right": null,
            "top": null,
            "visibility": null,
            "width": null
          }
        },
        "86a508d6a4b74529ab61d1098ff142b2": {
          "model_module": "@jupyter-widgets/base",
          "model_name": "LayoutModel",
          "model_module_version": "1.2.0",
          "state": {
            "_model_module": "@jupyter-widgets/base",
            "_model_module_version": "1.2.0",
            "_model_name": "LayoutModel",
            "_view_count": null,
            "_view_module": "@jupyter-widgets/base",
            "_view_module_version": "1.2.0",
            "_view_name": "LayoutView",
            "align_content": null,
            "align_items": null,
            "align_self": null,
            "border": null,
            "bottom": null,
            "display": null,
            "flex": null,
            "flex_flow": null,
            "grid_area": null,
            "grid_auto_columns": null,
            "grid_auto_flow": null,
            "grid_auto_rows": null,
            "grid_column": null,
            "grid_gap": null,
            "grid_row": null,
            "grid_template_areas": null,
            "grid_template_columns": null,
            "grid_template_rows": null,
            "height": null,
            "justify_content": null,
            "justify_items": null,
            "left": null,
            "margin": null,
            "max_height": null,
            "max_width": null,
            "min_height": null,
            "min_width": null,
            "object_fit": null,
            "object_position": null,
            "order": null,
            "overflow": null,
            "overflow_x": null,
            "overflow_y": null,
            "padding": null,
            "right": null,
            "top": null,
            "visibility": null,
            "width": null
          }
        },
        "0b5f8c6fbea643199e807d9f5bf4fcc4": {
          "model_module": "@jupyter-widgets/controls",
          "model_name": "DescriptionStyleModel",
          "model_module_version": "1.5.0",
          "state": {
            "_model_module": "@jupyter-widgets/controls",
            "_model_module_version": "1.5.0",
            "_model_name": "DescriptionStyleModel",
            "_view_count": null,
            "_view_module": "@jupyter-widgets/base",
            "_view_module_version": "1.2.0",
            "_view_name": "StyleView",
            "description_width": ""
          }
        },
        "d761648293d44a4788638341491b852a": {
          "model_module": "@jupyter-widgets/base",
          "model_name": "LayoutModel",
          "model_module_version": "1.2.0",
          "state": {
            "_model_module": "@jupyter-widgets/base",
            "_model_module_version": "1.2.0",
            "_model_name": "LayoutModel",
            "_view_count": null,
            "_view_module": "@jupyter-widgets/base",
            "_view_module_version": "1.2.0",
            "_view_name": "LayoutView",
            "align_content": null,
            "align_items": null,
            "align_self": null,
            "border": null,
            "bottom": null,
            "display": null,
            "flex": null,
            "flex_flow": null,
            "grid_area": null,
            "grid_auto_columns": null,
            "grid_auto_flow": null,
            "grid_auto_rows": null,
            "grid_column": null,
            "grid_gap": null,
            "grid_row": null,
            "grid_template_areas": null,
            "grid_template_columns": null,
            "grid_template_rows": null,
            "height": null,
            "justify_content": null,
            "justify_items": null,
            "left": null,
            "margin": null,
            "max_height": null,
            "max_width": null,
            "min_height": null,
            "min_width": null,
            "object_fit": null,
            "object_position": null,
            "order": null,
            "overflow": null,
            "overflow_x": null,
            "overflow_y": null,
            "padding": null,
            "right": null,
            "top": null,
            "visibility": null,
            "width": null
          }
        },
        "61a7923957a74c589bb45a1eb31dbbff": {
          "model_module": "@jupyter-widgets/controls",
          "model_name": "ProgressStyleModel",
          "model_module_version": "1.5.0",
          "state": {
            "_model_module": "@jupyter-widgets/controls",
            "_model_module_version": "1.5.0",
            "_model_name": "ProgressStyleModel",
            "_view_count": null,
            "_view_module": "@jupyter-widgets/base",
            "_view_module_version": "1.2.0",
            "_view_name": "StyleView",
            "bar_color": null,
            "description_width": ""
          }
        },
        "50dd7b3d07b5482692138e62cf94eaf4": {
          "model_module": "@jupyter-widgets/base",
          "model_name": "LayoutModel",
          "model_module_version": "1.2.0",
          "state": {
            "_model_module": "@jupyter-widgets/base",
            "_model_module_version": "1.2.0",
            "_model_name": "LayoutModel",
            "_view_count": null,
            "_view_module": "@jupyter-widgets/base",
            "_view_module_version": "1.2.0",
            "_view_name": "LayoutView",
            "align_content": null,
            "align_items": null,
            "align_self": null,
            "border": null,
            "bottom": null,
            "display": null,
            "flex": null,
            "flex_flow": null,
            "grid_area": null,
            "grid_auto_columns": null,
            "grid_auto_flow": null,
            "grid_auto_rows": null,
            "grid_column": null,
            "grid_gap": null,
            "grid_row": null,
            "grid_template_areas": null,
            "grid_template_columns": null,
            "grid_template_rows": null,
            "height": null,
            "justify_content": null,
            "justify_items": null,
            "left": null,
            "margin": null,
            "max_height": null,
            "max_width": null,
            "min_height": null,
            "min_width": null,
            "object_fit": null,
            "object_position": null,
            "order": null,
            "overflow": null,
            "overflow_x": null,
            "overflow_y": null,
            "padding": null,
            "right": null,
            "top": null,
            "visibility": null,
            "width": null
          }
        },
        "d1ef6021692f472fb2cb8067ae09418d": {
          "model_module": "@jupyter-widgets/controls",
          "model_name": "DescriptionStyleModel",
          "model_module_version": "1.5.0",
          "state": {
            "_model_module": "@jupyter-widgets/controls",
            "_model_module_version": "1.5.0",
            "_model_name": "DescriptionStyleModel",
            "_view_count": null,
            "_view_module": "@jupyter-widgets/base",
            "_view_module_version": "1.2.0",
            "_view_name": "StyleView",
            "description_width": ""
          }
        },
        "e1c11fe6efc84cc2bb29d010b1ca8ab2": {
          "model_module": "@jupyter-widgets/controls",
          "model_name": "HBoxModel",
          "model_module_version": "1.5.0",
          "state": {
            "_dom_classes": [],
            "_model_module": "@jupyter-widgets/controls",
            "_model_module_version": "1.5.0",
            "_model_name": "HBoxModel",
            "_view_count": null,
            "_view_module": "@jupyter-widgets/controls",
            "_view_module_version": "1.5.0",
            "_view_name": "HBoxView",
            "box_style": "",
            "children": [
              "IPY_MODEL_96109866d28c4acda29f7d10f2948bdb",
              "IPY_MODEL_a15062f450b3416bb239ecfbec76979b",
              "IPY_MODEL_3dd96641c35b48aaa9fbb6d0be0f81a7"
            ],
            "layout": "IPY_MODEL_33093eaf78384b6296cecc48dd2417d0"
          }
        },
        "96109866d28c4acda29f7d10f2948bdb": {
          "model_module": "@jupyter-widgets/controls",
          "model_name": "HTMLModel",
          "model_module_version": "1.5.0",
          "state": {
            "_dom_classes": [],
            "_model_module": "@jupyter-widgets/controls",
            "_model_module_version": "1.5.0",
            "_model_name": "HTMLModel",
            "_view_count": null,
            "_view_module": "@jupyter-widgets/controls",
            "_view_module_version": "1.5.0",
            "_view_name": "HTMLView",
            "description": "",
            "description_tooltip": null,
            "layout": "IPY_MODEL_6fa9a848605241fabbc242fabbfd5a3c",
            "placeholder": "​",
            "style": "IPY_MODEL_df8e210289ad4449a6aac9e82756d0be",
            "value": "Downloading (…)solve/main/vocab.txt: 100%"
          }
        },
        "a15062f450b3416bb239ecfbec76979b": {
          "model_module": "@jupyter-widgets/controls",
          "model_name": "FloatProgressModel",
          "model_module_version": "1.5.0",
          "state": {
            "_dom_classes": [],
            "_model_module": "@jupyter-widgets/controls",
            "_model_module_version": "1.5.0",
            "_model_name": "FloatProgressModel",
            "_view_count": null,
            "_view_module": "@jupyter-widgets/controls",
            "_view_module_version": "1.5.0",
            "_view_name": "ProgressView",
            "bar_style": "success",
            "description": "",
            "description_tooltip": null,
            "layout": "IPY_MODEL_09218daca84b4359abc0004ec6e065b7",
            "max": 247723,
            "min": 0,
            "orientation": "horizontal",
            "style": "IPY_MODEL_5a2c6e722d04425ebf147b2c65616ebf",
            "value": 247723
          }
        },
        "3dd96641c35b48aaa9fbb6d0be0f81a7": {
          "model_module": "@jupyter-widgets/controls",
          "model_name": "HTMLModel",
          "model_module_version": "1.5.0",
          "state": {
            "_dom_classes": [],
            "_model_module": "@jupyter-widgets/controls",
            "_model_module_version": "1.5.0",
            "_model_name": "HTMLModel",
            "_view_count": null,
            "_view_module": "@jupyter-widgets/controls",
            "_view_module_version": "1.5.0",
            "_view_name": "HTMLView",
            "description": "",
            "description_tooltip": null,
            "layout": "IPY_MODEL_9d0aeff3f0d245ce9b391e65107c76b0",
            "placeholder": "​",
            "style": "IPY_MODEL_28873863b52b4861a5e945c558769483",
            "value": " 248k/248k [00:00&lt;00:00, 715kB/s]"
          }
        },
        "33093eaf78384b6296cecc48dd2417d0": {
          "model_module": "@jupyter-widgets/base",
          "model_name": "LayoutModel",
          "model_module_version": "1.2.0",
          "state": {
            "_model_module": "@jupyter-widgets/base",
            "_model_module_version": "1.2.0",
            "_model_name": "LayoutModel",
            "_view_count": null,
            "_view_module": "@jupyter-widgets/base",
            "_view_module_version": "1.2.0",
            "_view_name": "LayoutView",
            "align_content": null,
            "align_items": null,
            "align_self": null,
            "border": null,
            "bottom": null,
            "display": null,
            "flex": null,
            "flex_flow": null,
            "grid_area": null,
            "grid_auto_columns": null,
            "grid_auto_flow": null,
            "grid_auto_rows": null,
            "grid_column": null,
            "grid_gap": null,
            "grid_row": null,
            "grid_template_areas": null,
            "grid_template_columns": null,
            "grid_template_rows": null,
            "height": null,
            "justify_content": null,
            "justify_items": null,
            "left": null,
            "margin": null,
            "max_height": null,
            "max_width": null,
            "min_height": null,
            "min_width": null,
            "object_fit": null,
            "object_position": null,
            "order": null,
            "overflow": null,
            "overflow_x": null,
            "overflow_y": null,
            "padding": null,
            "right": null,
            "top": null,
            "visibility": null,
            "width": null
          }
        },
        "6fa9a848605241fabbc242fabbfd5a3c": {
          "model_module": "@jupyter-widgets/base",
          "model_name": "LayoutModel",
          "model_module_version": "1.2.0",
          "state": {
            "_model_module": "@jupyter-widgets/base",
            "_model_module_version": "1.2.0",
            "_model_name": "LayoutModel",
            "_view_count": null,
            "_view_module": "@jupyter-widgets/base",
            "_view_module_version": "1.2.0",
            "_view_name": "LayoutView",
            "align_content": null,
            "align_items": null,
            "align_self": null,
            "border": null,
            "bottom": null,
            "display": null,
            "flex": null,
            "flex_flow": null,
            "grid_area": null,
            "grid_auto_columns": null,
            "grid_auto_flow": null,
            "grid_auto_rows": null,
            "grid_column": null,
            "grid_gap": null,
            "grid_row": null,
            "grid_template_areas": null,
            "grid_template_columns": null,
            "grid_template_rows": null,
            "height": null,
            "justify_content": null,
            "justify_items": null,
            "left": null,
            "margin": null,
            "max_height": null,
            "max_width": null,
            "min_height": null,
            "min_width": null,
            "object_fit": null,
            "object_position": null,
            "order": null,
            "overflow": null,
            "overflow_x": null,
            "overflow_y": null,
            "padding": null,
            "right": null,
            "top": null,
            "visibility": null,
            "width": null
          }
        },
        "df8e210289ad4449a6aac9e82756d0be": {
          "model_module": "@jupyter-widgets/controls",
          "model_name": "DescriptionStyleModel",
          "model_module_version": "1.5.0",
          "state": {
            "_model_module": "@jupyter-widgets/controls",
            "_model_module_version": "1.5.0",
            "_model_name": "DescriptionStyleModel",
            "_view_count": null,
            "_view_module": "@jupyter-widgets/base",
            "_view_module_version": "1.2.0",
            "_view_name": "StyleView",
            "description_width": ""
          }
        },
        "09218daca84b4359abc0004ec6e065b7": {
          "model_module": "@jupyter-widgets/base",
          "model_name": "LayoutModel",
          "model_module_version": "1.2.0",
          "state": {
            "_model_module": "@jupyter-widgets/base",
            "_model_module_version": "1.2.0",
            "_model_name": "LayoutModel",
            "_view_count": null,
            "_view_module": "@jupyter-widgets/base",
            "_view_module_version": "1.2.0",
            "_view_name": "LayoutView",
            "align_content": null,
            "align_items": null,
            "align_self": null,
            "border": null,
            "bottom": null,
            "display": null,
            "flex": null,
            "flex_flow": null,
            "grid_area": null,
            "grid_auto_columns": null,
            "grid_auto_flow": null,
            "grid_auto_rows": null,
            "grid_column": null,
            "grid_gap": null,
            "grid_row": null,
            "grid_template_areas": null,
            "grid_template_columns": null,
            "grid_template_rows": null,
            "height": null,
            "justify_content": null,
            "justify_items": null,
            "left": null,
            "margin": null,
            "max_height": null,
            "max_width": null,
            "min_height": null,
            "min_width": null,
            "object_fit": null,
            "object_position": null,
            "order": null,
            "overflow": null,
            "overflow_x": null,
            "overflow_y": null,
            "padding": null,
            "right": null,
            "top": null,
            "visibility": null,
            "width": null
          }
        },
        "5a2c6e722d04425ebf147b2c65616ebf": {
          "model_module": "@jupyter-widgets/controls",
          "model_name": "ProgressStyleModel",
          "model_module_version": "1.5.0",
          "state": {
            "_model_module": "@jupyter-widgets/controls",
            "_model_module_version": "1.5.0",
            "_model_name": "ProgressStyleModel",
            "_view_count": null,
            "_view_module": "@jupyter-widgets/base",
            "_view_module_version": "1.2.0",
            "_view_name": "StyleView",
            "bar_color": null,
            "description_width": ""
          }
        },
        "9d0aeff3f0d245ce9b391e65107c76b0": {
          "model_module": "@jupyter-widgets/base",
          "model_name": "LayoutModel",
          "model_module_version": "1.2.0",
          "state": {
            "_model_module": "@jupyter-widgets/base",
            "_model_module_version": "1.2.0",
            "_model_name": "LayoutModel",
            "_view_count": null,
            "_view_module": "@jupyter-widgets/base",
            "_view_module_version": "1.2.0",
            "_view_name": "LayoutView",
            "align_content": null,
            "align_items": null,
            "align_self": null,
            "border": null,
            "bottom": null,
            "display": null,
            "flex": null,
            "flex_flow": null,
            "grid_area": null,
            "grid_auto_columns": null,
            "grid_auto_flow": null,
            "grid_auto_rows": null,
            "grid_column": null,
            "grid_gap": null,
            "grid_row": null,
            "grid_template_areas": null,
            "grid_template_columns": null,
            "grid_template_rows": null,
            "height": null,
            "justify_content": null,
            "justify_items": null,
            "left": null,
            "margin": null,
            "max_height": null,
            "max_width": null,
            "min_height": null,
            "min_width": null,
            "object_fit": null,
            "object_position": null,
            "order": null,
            "overflow": null,
            "overflow_x": null,
            "overflow_y": null,
            "padding": null,
            "right": null,
            "top": null,
            "visibility": null,
            "width": null
          }
        },
        "28873863b52b4861a5e945c558769483": {
          "model_module": "@jupyter-widgets/controls",
          "model_name": "DescriptionStyleModel",
          "model_module_version": "1.5.0",
          "state": {
            "_model_module": "@jupyter-widgets/controls",
            "_model_module_version": "1.5.0",
            "_model_name": "DescriptionStyleModel",
            "_view_count": null,
            "_view_module": "@jupyter-widgets/base",
            "_view_module_version": "1.2.0",
            "_view_name": "StyleView",
            "description_width": ""
          }
        },
        "3639e8ef3bda4d05846de64c84c1091b": {
          "model_module": "@jupyter-widgets/controls",
          "model_name": "HBoxModel",
          "model_module_version": "1.5.0",
          "state": {
            "_dom_classes": [],
            "_model_module": "@jupyter-widgets/controls",
            "_model_module_version": "1.5.0",
            "_model_name": "HBoxModel",
            "_view_count": null,
            "_view_module": "@jupyter-widgets/controls",
            "_view_module_version": "1.5.0",
            "_view_name": "HBoxView",
            "box_style": "",
            "children": [
              "IPY_MODEL_4b680f7d3e734c5caed595a4c8282878",
              "IPY_MODEL_378776646b17426798940b817ca383fc",
              "IPY_MODEL_c7a9d6b92b9648e68e2d2dc7cda1bcb8"
            ],
            "layout": "IPY_MODEL_7cc2abdb972d42078119ae7d1c85c95a"
          }
        },
        "4b680f7d3e734c5caed595a4c8282878": {
          "model_module": "@jupyter-widgets/controls",
          "model_name": "HTMLModel",
          "model_module_version": "1.5.0",
          "state": {
            "_dom_classes": [],
            "_model_module": "@jupyter-widgets/controls",
            "_model_module_version": "1.5.0",
            "_model_name": "HTMLModel",
            "_view_count": null,
            "_view_module": "@jupyter-widgets/controls",
            "_view_module_version": "1.5.0",
            "_view_name": "HTMLView",
            "description": "",
            "description_tooltip": null,
            "layout": "IPY_MODEL_a726ac781beb4fe9bc0fbb1c697a2526",
            "placeholder": "​",
            "style": "IPY_MODEL_5dd4c50cea054cae92ee181fffd5a5ea",
            "value": "Downloading (…)/main/tokenizer.json: 100%"
          }
        },
        "378776646b17426798940b817ca383fc": {
          "model_module": "@jupyter-widgets/controls",
          "model_name": "FloatProgressModel",
          "model_module_version": "1.5.0",
          "state": {
            "_dom_classes": [],
            "_model_module": "@jupyter-widgets/controls",
            "_model_module_version": "1.5.0",
            "_model_name": "FloatProgressModel",
            "_view_count": null,
            "_view_module": "@jupyter-widgets/controls",
            "_view_module_version": "1.5.0",
            "_view_name": "ProgressView",
            "bar_style": "success",
            "description": "",
            "description_tooltip": null,
            "layout": "IPY_MODEL_76648710887545e39319faf60f866bbf",
            "max": 486125,
            "min": 0,
            "orientation": "horizontal",
            "style": "IPY_MODEL_1a309994d6a34282be8c45310570302f",
            "value": 486125
          }
        },
        "c7a9d6b92b9648e68e2d2dc7cda1bcb8": {
          "model_module": "@jupyter-widgets/controls",
          "model_name": "HTMLModel",
          "model_module_version": "1.5.0",
          "state": {
            "_dom_classes": [],
            "_model_module": "@jupyter-widgets/controls",
            "_model_module_version": "1.5.0",
            "_model_name": "HTMLModel",
            "_view_count": null,
            "_view_module": "@jupyter-widgets/controls",
            "_view_module_version": "1.5.0",
            "_view_name": "HTMLView",
            "description": "",
            "description_tooltip": null,
            "layout": "IPY_MODEL_df9c233ffb584f6089adfd2921f93d84",
            "placeholder": "​",
            "style": "IPY_MODEL_7202788478f1487ba294e4348dc0feb9",
            "value": " 486k/486k [00:00&lt;00:00, 19.4MB/s]"
          }
        },
        "7cc2abdb972d42078119ae7d1c85c95a": {
          "model_module": "@jupyter-widgets/base",
          "model_name": "LayoutModel",
          "model_module_version": "1.2.0",
          "state": {
            "_model_module": "@jupyter-widgets/base",
            "_model_module_version": "1.2.0",
            "_model_name": "LayoutModel",
            "_view_count": null,
            "_view_module": "@jupyter-widgets/base",
            "_view_module_version": "1.2.0",
            "_view_name": "LayoutView",
            "align_content": null,
            "align_items": null,
            "align_self": null,
            "border": null,
            "bottom": null,
            "display": null,
            "flex": null,
            "flex_flow": null,
            "grid_area": null,
            "grid_auto_columns": null,
            "grid_auto_flow": null,
            "grid_auto_rows": null,
            "grid_column": null,
            "grid_gap": null,
            "grid_row": null,
            "grid_template_areas": null,
            "grid_template_columns": null,
            "grid_template_rows": null,
            "height": null,
            "justify_content": null,
            "justify_items": null,
            "left": null,
            "margin": null,
            "max_height": null,
            "max_width": null,
            "min_height": null,
            "min_width": null,
            "object_fit": null,
            "object_position": null,
            "order": null,
            "overflow": null,
            "overflow_x": null,
            "overflow_y": null,
            "padding": null,
            "right": null,
            "top": null,
            "visibility": null,
            "width": null
          }
        },
        "a726ac781beb4fe9bc0fbb1c697a2526": {
          "model_module": "@jupyter-widgets/base",
          "model_name": "LayoutModel",
          "model_module_version": "1.2.0",
          "state": {
            "_model_module": "@jupyter-widgets/base",
            "_model_module_version": "1.2.0",
            "_model_name": "LayoutModel",
            "_view_count": null,
            "_view_module": "@jupyter-widgets/base",
            "_view_module_version": "1.2.0",
            "_view_name": "LayoutView",
            "align_content": null,
            "align_items": null,
            "align_self": null,
            "border": null,
            "bottom": null,
            "display": null,
            "flex": null,
            "flex_flow": null,
            "grid_area": null,
            "grid_auto_columns": null,
            "grid_auto_flow": null,
            "grid_auto_rows": null,
            "grid_column": null,
            "grid_gap": null,
            "grid_row": null,
            "grid_template_areas": null,
            "grid_template_columns": null,
            "grid_template_rows": null,
            "height": null,
            "justify_content": null,
            "justify_items": null,
            "left": null,
            "margin": null,
            "max_height": null,
            "max_width": null,
            "min_height": null,
            "min_width": null,
            "object_fit": null,
            "object_position": null,
            "order": null,
            "overflow": null,
            "overflow_x": null,
            "overflow_y": null,
            "padding": null,
            "right": null,
            "top": null,
            "visibility": null,
            "width": null
          }
        },
        "5dd4c50cea054cae92ee181fffd5a5ea": {
          "model_module": "@jupyter-widgets/controls",
          "model_name": "DescriptionStyleModel",
          "model_module_version": "1.5.0",
          "state": {
            "_model_module": "@jupyter-widgets/controls",
            "_model_module_version": "1.5.0",
            "_model_name": "DescriptionStyleModel",
            "_view_count": null,
            "_view_module": "@jupyter-widgets/base",
            "_view_module_version": "1.2.0",
            "_view_name": "StyleView",
            "description_width": ""
          }
        },
        "76648710887545e39319faf60f866bbf": {
          "model_module": "@jupyter-widgets/base",
          "model_name": "LayoutModel",
          "model_module_version": "1.2.0",
          "state": {
            "_model_module": "@jupyter-widgets/base",
            "_model_module_version": "1.2.0",
            "_model_name": "LayoutModel",
            "_view_count": null,
            "_view_module": "@jupyter-widgets/base",
            "_view_module_version": "1.2.0",
            "_view_name": "LayoutView",
            "align_content": null,
            "align_items": null,
            "align_self": null,
            "border": null,
            "bottom": null,
            "display": null,
            "flex": null,
            "flex_flow": null,
            "grid_area": null,
            "grid_auto_columns": null,
            "grid_auto_flow": null,
            "grid_auto_rows": null,
            "grid_column": null,
            "grid_gap": null,
            "grid_row": null,
            "grid_template_areas": null,
            "grid_template_columns": null,
            "grid_template_rows": null,
            "height": null,
            "justify_content": null,
            "justify_items": null,
            "left": null,
            "margin": null,
            "max_height": null,
            "max_width": null,
            "min_height": null,
            "min_width": null,
            "object_fit": null,
            "object_position": null,
            "order": null,
            "overflow": null,
            "overflow_x": null,
            "overflow_y": null,
            "padding": null,
            "right": null,
            "top": null,
            "visibility": null,
            "width": null
          }
        },
        "1a309994d6a34282be8c45310570302f": {
          "model_module": "@jupyter-widgets/controls",
          "model_name": "ProgressStyleModel",
          "model_module_version": "1.5.0",
          "state": {
            "_model_module": "@jupyter-widgets/controls",
            "_model_module_version": "1.5.0",
            "_model_name": "ProgressStyleModel",
            "_view_count": null,
            "_view_module": "@jupyter-widgets/base",
            "_view_module_version": "1.2.0",
            "_view_name": "StyleView",
            "bar_color": null,
            "description_width": ""
          }
        },
        "df9c233ffb584f6089adfd2921f93d84": {
          "model_module": "@jupyter-widgets/base",
          "model_name": "LayoutModel",
          "model_module_version": "1.2.0",
          "state": {
            "_model_module": "@jupyter-widgets/base",
            "_model_module_version": "1.2.0",
            "_model_name": "LayoutModel",
            "_view_count": null,
            "_view_module": "@jupyter-widgets/base",
            "_view_module_version": "1.2.0",
            "_view_name": "LayoutView",
            "align_content": null,
            "align_items": null,
            "align_self": null,
            "border": null,
            "bottom": null,
            "display": null,
            "flex": null,
            "flex_flow": null,
            "grid_area": null,
            "grid_auto_columns": null,
            "grid_auto_flow": null,
            "grid_auto_rows": null,
            "grid_column": null,
            "grid_gap": null,
            "grid_row": null,
            "grid_template_areas": null,
            "grid_template_columns": null,
            "grid_template_rows": null,
            "height": null,
            "justify_content": null,
            "justify_items": null,
            "left": null,
            "margin": null,
            "max_height": null,
            "max_width": null,
            "min_height": null,
            "min_width": null,
            "object_fit": null,
            "object_position": null,
            "order": null,
            "overflow": null,
            "overflow_x": null,
            "overflow_y": null,
            "padding": null,
            "right": null,
            "top": null,
            "visibility": null,
            "width": null
          }
        },
        "7202788478f1487ba294e4348dc0feb9": {
          "model_module": "@jupyter-widgets/controls",
          "model_name": "DescriptionStyleModel",
          "model_module_version": "1.5.0",
          "state": {
            "_model_module": "@jupyter-widgets/controls",
            "_model_module_version": "1.5.0",
            "_model_name": "DescriptionStyleModel",
            "_view_count": null,
            "_view_module": "@jupyter-widgets/base",
            "_view_module_version": "1.2.0",
            "_view_name": "StyleView",
            "description_width": ""
          }
        },
        "91d5390e40474b72a8b14c8e9df1663d": {
          "model_module": "@jupyter-widgets/controls",
          "model_name": "HBoxModel",
          "model_module_version": "1.5.0",
          "state": {
            "_dom_classes": [],
            "_model_module": "@jupyter-widgets/controls",
            "_model_module_version": "1.5.0",
            "_model_name": "HBoxModel",
            "_view_count": null,
            "_view_module": "@jupyter-widgets/controls",
            "_view_module_version": "1.5.0",
            "_view_name": "HBoxView",
            "box_style": "",
            "children": [
              "IPY_MODEL_9cdb0907f61f4c52be947a4e02174943",
              "IPY_MODEL_f9f3542f957a44f0ad5c2dad9af63979",
              "IPY_MODEL_b054d1ac947e4ec8b73f3bd9d22b80b0"
            ],
            "layout": "IPY_MODEL_c8f003eaf1ad4e3688be29c5bf617873"
          }
        },
        "9cdb0907f61f4c52be947a4e02174943": {
          "model_module": "@jupyter-widgets/controls",
          "model_name": "HTMLModel",
          "model_module_version": "1.5.0",
          "state": {
            "_dom_classes": [],
            "_model_module": "@jupyter-widgets/controls",
            "_model_module_version": "1.5.0",
            "_model_name": "HTMLModel",
            "_view_count": null,
            "_view_module": "@jupyter-widgets/controls",
            "_view_module_version": "1.5.0",
            "_view_name": "HTMLView",
            "description": "",
            "description_tooltip": null,
            "layout": "IPY_MODEL_f5cd2b69d4004f618dc9ad04b1134d2d",
            "placeholder": "​",
            "style": "IPY_MODEL_aff0cf965f094860843af1374844f08e",
            "value": "Downloading (…)cial_tokens_map.json: 100%"
          }
        },
        "f9f3542f957a44f0ad5c2dad9af63979": {
          "model_module": "@jupyter-widgets/controls",
          "model_name": "FloatProgressModel",
          "model_module_version": "1.5.0",
          "state": {
            "_dom_classes": [],
            "_model_module": "@jupyter-widgets/controls",
            "_model_module_version": "1.5.0",
            "_model_name": "FloatProgressModel",
            "_view_count": null,
            "_view_module": "@jupyter-widgets/controls",
            "_view_module_version": "1.5.0",
            "_view_name": "ProgressView",
            "bar_style": "success",
            "description": "",
            "description_tooltip": null,
            "layout": "IPY_MODEL_347c25934fde440aa3a9fdf6ccae2ec7",
            "max": 134,
            "min": 0,
            "orientation": "horizontal",
            "style": "IPY_MODEL_4a19b361548a433b8044cab794ee76e0",
            "value": 134
          }
        },
        "b054d1ac947e4ec8b73f3bd9d22b80b0": {
          "model_module": "@jupyter-widgets/controls",
          "model_name": "HTMLModel",
          "model_module_version": "1.5.0",
          "state": {
            "_dom_classes": [],
            "_model_module": "@jupyter-widgets/controls",
            "_model_module_version": "1.5.0",
            "_model_name": "HTMLModel",
            "_view_count": null,
            "_view_module": "@jupyter-widgets/controls",
            "_view_module_version": "1.5.0",
            "_view_name": "HTMLView",
            "description": "",
            "description_tooltip": null,
            "layout": "IPY_MODEL_eb17c82dba2c42bc8378d217683621be",
            "placeholder": "​",
            "style": "IPY_MODEL_4f81bfe19f524dd39502cb3171b601d7",
            "value": " 134/134 [00:00&lt;00:00, 4.73kB/s]"
          }
        },
        "c8f003eaf1ad4e3688be29c5bf617873": {
          "model_module": "@jupyter-widgets/base",
          "model_name": "LayoutModel",
          "model_module_version": "1.2.0",
          "state": {
            "_model_module": "@jupyter-widgets/base",
            "_model_module_version": "1.2.0",
            "_model_name": "LayoutModel",
            "_view_count": null,
            "_view_module": "@jupyter-widgets/base",
            "_view_module_version": "1.2.0",
            "_view_name": "LayoutView",
            "align_content": null,
            "align_items": null,
            "align_self": null,
            "border": null,
            "bottom": null,
            "display": null,
            "flex": null,
            "flex_flow": null,
            "grid_area": null,
            "grid_auto_columns": null,
            "grid_auto_flow": null,
            "grid_auto_rows": null,
            "grid_column": null,
            "grid_gap": null,
            "grid_row": null,
            "grid_template_areas": null,
            "grid_template_columns": null,
            "grid_template_rows": null,
            "height": null,
            "justify_content": null,
            "justify_items": null,
            "left": null,
            "margin": null,
            "max_height": null,
            "max_width": null,
            "min_height": null,
            "min_width": null,
            "object_fit": null,
            "object_position": null,
            "order": null,
            "overflow": null,
            "overflow_x": null,
            "overflow_y": null,
            "padding": null,
            "right": null,
            "top": null,
            "visibility": null,
            "width": null
          }
        },
        "f5cd2b69d4004f618dc9ad04b1134d2d": {
          "model_module": "@jupyter-widgets/base",
          "model_name": "LayoutModel",
          "model_module_version": "1.2.0",
          "state": {
            "_model_module": "@jupyter-widgets/base",
            "_model_module_version": "1.2.0",
            "_model_name": "LayoutModel",
            "_view_count": null,
            "_view_module": "@jupyter-widgets/base",
            "_view_module_version": "1.2.0",
            "_view_name": "LayoutView",
            "align_content": null,
            "align_items": null,
            "align_self": null,
            "border": null,
            "bottom": null,
            "display": null,
            "flex": null,
            "flex_flow": null,
            "grid_area": null,
            "grid_auto_columns": null,
            "grid_auto_flow": null,
            "grid_auto_rows": null,
            "grid_column": null,
            "grid_gap": null,
            "grid_row": null,
            "grid_template_areas": null,
            "grid_template_columns": null,
            "grid_template_rows": null,
            "height": null,
            "justify_content": null,
            "justify_items": null,
            "left": null,
            "margin": null,
            "max_height": null,
            "max_width": null,
            "min_height": null,
            "min_width": null,
            "object_fit": null,
            "object_position": null,
            "order": null,
            "overflow": null,
            "overflow_x": null,
            "overflow_y": null,
            "padding": null,
            "right": null,
            "top": null,
            "visibility": null,
            "width": null
          }
        },
        "aff0cf965f094860843af1374844f08e": {
          "model_module": "@jupyter-widgets/controls",
          "model_name": "DescriptionStyleModel",
          "model_module_version": "1.5.0",
          "state": {
            "_model_module": "@jupyter-widgets/controls",
            "_model_module_version": "1.5.0",
            "_model_name": "DescriptionStyleModel",
            "_view_count": null,
            "_view_module": "@jupyter-widgets/base",
            "_view_module_version": "1.2.0",
            "_view_name": "StyleView",
            "description_width": ""
          }
        },
        "347c25934fde440aa3a9fdf6ccae2ec7": {
          "model_module": "@jupyter-widgets/base",
          "model_name": "LayoutModel",
          "model_module_version": "1.2.0",
          "state": {
            "_model_module": "@jupyter-widgets/base",
            "_model_module_version": "1.2.0",
            "_model_name": "LayoutModel",
            "_view_count": null,
            "_view_module": "@jupyter-widgets/base",
            "_view_module_version": "1.2.0",
            "_view_name": "LayoutView",
            "align_content": null,
            "align_items": null,
            "align_self": null,
            "border": null,
            "bottom": null,
            "display": null,
            "flex": null,
            "flex_flow": null,
            "grid_area": null,
            "grid_auto_columns": null,
            "grid_auto_flow": null,
            "grid_auto_rows": null,
            "grid_column": null,
            "grid_gap": null,
            "grid_row": null,
            "grid_template_areas": null,
            "grid_template_columns": null,
            "grid_template_rows": null,
            "height": null,
            "justify_content": null,
            "justify_items": null,
            "left": null,
            "margin": null,
            "max_height": null,
            "max_width": null,
            "min_height": null,
            "min_width": null,
            "object_fit": null,
            "object_position": null,
            "order": null,
            "overflow": null,
            "overflow_x": null,
            "overflow_y": null,
            "padding": null,
            "right": null,
            "top": null,
            "visibility": null,
            "width": null
          }
        },
        "4a19b361548a433b8044cab794ee76e0": {
          "model_module": "@jupyter-widgets/controls",
          "model_name": "ProgressStyleModel",
          "model_module_version": "1.5.0",
          "state": {
            "_model_module": "@jupyter-widgets/controls",
            "_model_module_version": "1.5.0",
            "_model_name": "ProgressStyleModel",
            "_view_count": null,
            "_view_module": "@jupyter-widgets/base",
            "_view_module_version": "1.2.0",
            "_view_name": "StyleView",
            "bar_color": null,
            "description_width": ""
          }
        },
        "eb17c82dba2c42bc8378d217683621be": {
          "model_module": "@jupyter-widgets/base",
          "model_name": "LayoutModel",
          "model_module_version": "1.2.0",
          "state": {
            "_model_module": "@jupyter-widgets/base",
            "_model_module_version": "1.2.0",
            "_model_name": "LayoutModel",
            "_view_count": null,
            "_view_module": "@jupyter-widgets/base",
            "_view_module_version": "1.2.0",
            "_view_name": "LayoutView",
            "align_content": null,
            "align_items": null,
            "align_self": null,
            "border": null,
            "bottom": null,
            "display": null,
            "flex": null,
            "flex_flow": null,
            "grid_area": null,
            "grid_auto_columns": null,
            "grid_auto_flow": null,
            "grid_auto_rows": null,
            "grid_column": null,
            "grid_gap": null,
            "grid_row": null,
            "grid_template_areas": null,
            "grid_template_columns": null,
            "grid_template_rows": null,
            "height": null,
            "justify_content": null,
            "justify_items": null,
            "left": null,
            "margin": null,
            "max_height": null,
            "max_width": null,
            "min_height": null,
            "min_width": null,
            "object_fit": null,
            "object_position": null,
            "order": null,
            "overflow": null,
            "overflow_x": null,
            "overflow_y": null,
            "padding": null,
            "right": null,
            "top": null,
            "visibility": null,
            "width": null
          }
        },
        "4f81bfe19f524dd39502cb3171b601d7": {
          "model_module": "@jupyter-widgets/controls",
          "model_name": "DescriptionStyleModel",
          "model_module_version": "1.5.0",
          "state": {
            "_model_module": "@jupyter-widgets/controls",
            "_model_module_version": "1.5.0",
            "_model_name": "DescriptionStyleModel",
            "_view_count": null,
            "_view_module": "@jupyter-widgets/base",
            "_view_module_version": "1.2.0",
            "_view_name": "StyleView",
            "description_width": ""
          }
        }
      }
    }
  },
  "cells": [
    {
      "cell_type": "markdown",
      "source": [
        "# Clasificación de textos: Descripción y experimentos\n",
        "\n"
      ],
      "metadata": {
        "id": "HcO6DMU8CrNz"
      }
    },
    {
      "cell_type": "markdown",
      "source": [
        "![Screenshot 2023-04-26 at 09-16-11 MentalRiskES 2023.png](data:image/png;base64,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)"
      ],
      "metadata": {
        "id": "b3ccszXeI1l8"
      }
    },
    {
      "cell_type": "markdown",
      "source": [
        "## Descripción"
      ],
      "metadata": {
        "id": "Mppga-LUHdH5"
      }
    },
    {
      "cell_type": "markdown",
      "source": [
        "El problema que enfrentamos es común en el cuidado de la salud mental: identificar a las personas que pueden estar en riesgo de depresión o un trastorno alimentario en función de su uso del lenguaje. Las tareas del proyecto consisten en la detección de trastornos mentales en los usuarios a partir de sus comentarios publicados en Telegram. Dado un historial de mensajes sobre un usuario, el objetivo es identificar si el usuario padece o no el trastorno, y su actitud frente al mismo: en contra (pretende irse) o a favor (pretende continuar). Los mensajes de texto pueden ser una fuente valiosa de información para identificar a dichas personas, pero primero, Necesitamos procesar y analizar los mensajes utilizando técnicas de NLP (Natural Language Processing)."
      ],
      "metadata": {
        "id": "aSNTSDO3Fv1T"
      }
    },
    {
      "cell_type": "markdown",
      "source": [
        "## Tokenización"
      ],
      "metadata": {
        "id": "XzxRCPqLGCw7"
      }
    },
    {
      "cell_type": "markdown",
      "source": [
        "La tokenización es el proceso de dividir una cadena de texto en unidades más pequeñas llamadas tokens. Los tokens pueden ser palabras, frases u otros elementos significativos. La tokenización es un paso fundamental en muchas tareas de procesamiento de lenguaje natural (NLP), como la clasificación de texto, resumen y traducción automática."
      ],
      "metadata": {
        "id": "RGGngBjvGFZI"
      }
    },
    {
      "cell_type": "markdown",
      "source": [
        "### Tipos de Tokenización"
      ],
      "metadata": {
        "id": "hxAt4OnLHyIn"
      }
    },
    {
      "cell_type": "markdown",
      "source": [
        "1. Tokenización por palabras: El proceso consiste en separar el texto en palabras, identificando los espacios y los signos de puntuación como límites. Además, la tokenización puede implicar la eliminación de ciertas palabras, como las comunes \"stop words\", que no tienen mucho significado en un contexto determinado. Tokenizar por palabras permite al modelo saltarse el paso de aprender palabras a partir de caracteres y, por tanto, reduce la complejidad del proceso de entrenamiento.\n",
        "\n",
        "2. Tokenización por subpalabras: la idea básica detrás de la tokenización de subpalabras es combinar los mejores aspectos de la tokenización de caracteres y palabras. Por un lado, queremos dividir las palabras raras en unidades más pequeñas para permitir que el modelo se ocupe de palabras complejas y errores ortográficos. Por otro lado, queremos mantener las palabras frecuentes como entidades únicas para que podamos mantener la longitud de nuestras entradas en un tamaño manejable. La principal característica distintiva de la tokenización de subpalabras (así como la tokenización de palabras) es que se aprende del corpus previo al entrenamiento mediante una combinación de reglas y algoritmos estadísticos.\n",
        "\n",
        "\n",
        "3. Tokenización por caracteres: la tokenización de caracteres es el proceso de dividir una cadena de texto en caracteres. Los caracteres son las unidades de significado más pequeñas en una cadena de texto. La tokenización de caracteres es menos común que la tokenización de palabras, pero puede ser útil para tareas como la normalización de texto y la revisión ortográfica."
      ],
      "metadata": {
        "id": "vy1MMUB0H8VA"
      }
    },
    {
      "cell_type": "markdown",
      "source": [
        "### Obstáculos al usar tokenización por palabras\n",
        "\n",
        "Una estrategia común al tokenizar por palabras es limitar el vocabulario y descartar palabras raras considerando, digamos, las 100.000 palabras más comunes en el corpus en un LLM. Las palabras que no forman parte del vocabulario se clasifican como \"desconocidas\" y se asignan a un token UNK compartido. Esto significa que perdemos información potencialmente importante en el proceso de tokenización de palabras, ya que el modelo no tiene información sobre las palabras asociadas con UNK. ¿No sería bueno si hubiera un compromiso entre la tokenización de caracteres y palabras que preservara toda la información de entrada y parte de la estructura de entrada? Hay tokenización de subpalabras.\n",
        "\n",
        "La tokenización por subpalabras es la opción más óptima para la tarea en cuestión, dadas las características de los textos a clasificar."
      ],
      "metadata": {
        "id": "EOq8fqzONYVJ"
      }
    },
    {
      "cell_type": "markdown",
      "source": [
        "## Proceso"
      ],
      "metadata": {
        "id": "OErMSbPSN72x"
      }
    },
    {
      "cell_type": "markdown",
      "source": [
        "Para realizar la tokenización, las tareas realizadas fueron:\n",
        "1. Crear una lista de todos los archivos .txt.\n",
        "2. Recorrer la lista de archivos .txt y crear un DataFrame.\n",
        "3. Crear un nuevo archivo con los batches de los mensajes tokenizados.\n",
        "\n",
        "El DataFrame ahora contendrá todos los mensajes de todos los archivos .txt y una columna con la identificación del paciente."
      ],
      "metadata": {
        "id": "frGd_yVpnW6t"
      }
    },
    {
      "cell_type": "markdown",
      "source": [
        "Primero, teniendo los archivos en el misma carpeta, pasamos los mensajes con su fecha a un archivo .txt."
      ],
      "metadata": {
        "id": "wQuvmNVQs82w"
      }
    },
    {
      "cell_type": "code",
      "source": [
        "import json\n",
        "import glob\n",
        "import os\n",
        "import pandas as pd"
      ],
      "metadata": {
        "id": "HUaaWFTR6lRD"
      },
      "execution_count": 1,
      "outputs": []
    },
    {
      "cell_type": "code",
      "source": [
        "# Creamos una función para decodificar un string a UTF-8\n",
        "def decode_string(s):\n",
        "    # Decodficamos\n",
        "    decoded_str = s.encode(\"utf-8\", errors=\"ignore\").decode(\"utf-8\", errors=\"ignore\")\n",
        "    # Removemos cualquier caracter fuera del Basic Multilingual Plane (BMP)\n",
        "    return \"\".join(char for char in decoded_str if ord(char) < 0x10000)\n",
        "\n",
        "# Definimos el PATH (en este caso el script estaba en la misma carpeta de los JSON)\n",
        "json_files = glob.glob(\"*.json\")\n",
        "print(json_files)\n",
        "# Iteramos cada JSON\n",
        "for file_path in json_files:\n",
        "    # Abrimos el archivo y cargamos el contenido\n",
        "    with open(file_path, \"r\", errors='ignore') as f:\n",
        "        json_obj = json.load(f)\n",
        "\n",
        "    # Extraemos todas las ocurrencias de \"name\" y \"date\"\n",
        "    entries = [(decode_string(entry[\"message\"]), entry[\"date\"]) for entry in json_obj]\n",
        "\n",
        "    # Concatenamos todo a un string\n",
        "    all_entries = \"\\n\".join(f\"{name}[SEP]{date}\" for name, date in entries)\n",
        "\n",
        "    # Extraemos el nombre del json y se lo asignamos al .txt\n",
        "    filename = os.path.basename(file_path).replace(\".json\", \".txt\")\n",
        "\n",
        "    # Creamos los archivos .txt\n",
        "    with open(filename, \"w\", encoding='utf-8') as f:\n",
        "        f.write(all_entries)"
      ],
      "metadata": {
        "colab": {
          "base_uri": "https://localhost:8080/"
        },
        "id": "HYQGKDQqs8QL",
        "outputId": "772c5174-c47b-44fa-a3f1-0e7636dfd769"
      },
      "execution_count": null,
      "outputs": [
        {
          "output_type": "stream",
          "name": "stdout",
          "text": [
            "['subject10.json', 'subject104.json', 'subject140.json', 'subject138.json', 'subject1.json', 'subject101.json', 'subject139.json', 'subject102.json', 'subject100.json', 'subject131.json']\n"
          ]
        }
      ]
    },
    {
      "cell_type": "markdown",
      "source": [
        "Los transferimos al DataFrame"
      ],
      "metadata": {
        "id": "5AN52CSRtKUE"
      }
    },
    {
      "cell_type": "code",
      "source": [
        "# Get the list of .txt files\n",
        "txt_files = [f for f in os.listdir() if f.endswith(\".txt\")]\n",
        "\n",
        "# Create an empty DataFrame\n",
        "df = pd.DataFrame()\n",
        "\n",
        "# Iterate through the .txt files\n",
        "for txt_file in txt_files:\n",
        "\n",
        "    # Get the patient ID from the file name\n",
        "    patient_id = txt_file.split(\".txt\")[0]\n",
        "\n",
        "    # Open the .txt file\n",
        "    with open(txt_file, \"r\") as f:\n",
        "\n",
        "        # Read the lines of the file\n",
        "        lines = f.readlines()\n",
        "\n",
        "        # Iterate through the lines of the file\n",
        "        for line in lines:\n",
        "\n",
        "            # Split the line into a message and a date\n",
        "            message, date = line.split(\"[SEP]\", 1)\n",
        "\n",
        "\n",
        "            # Add the message and the date to the DataFrame\n",
        "            df = df.append({\"Patient ID\": patient_id, \"Message\": message, \"Date\": date}, ignore_index=True)\n",
        "            df['Date'] = df['Date'].str.replace('\\n', '')\n",
        "\n",
        "\n",
        "# Save the DataFrame\n",
        "df.to_csv('subject_messages.csv', index=False)\n",
        "#Show the DataFrame\n",
        "df\n"
      ],
      "metadata": {
        "id": "x2xeD0lRpKjz"
      },
      "execution_count": null,
      "outputs": []
    },
    {
      "cell_type": "markdown",
      "source": [
        "Después de crear el CSV y guardarlo, lo importamos directamente."
      ],
      "metadata": {
        "id": "sUVgzMYbrly9"
      }
    },
    {
      "cell_type": "code",
      "source": [
        "df = pd.read_csv('subject_messages.csv')\n",
        "df"
      ],
      "metadata": {
        "id": "4jUqJo-drlWT",
        "colab": {
          "base_uri": "https://localhost:8080/",
          "height": 424
        },
        "outputId": "db2229c0-fe80-475f-9f5c-4bc4b2d05760"
      },
      "execution_count": 7,
      "outputs": [
        {
          "output_type": "execute_result",
          "data": {
            "text/plain": [
              "     Patient ID                                            Message  \\\n",
              "0    subject101                              Jajaja bien y vos ? ?   \n",
              "1    subject101                       Toca en donde dice ana y mia   \n",
              "2    subject101                Okey bien corazón rojo corazón rojo   \n",
              "3    subject101    Bueno cualquier cosa ya sabes donde pedir ayuda   \n",
              "4    subject101  Bueno yo me llamo candela mi edad es 14 creo q...   \n",
              "..          ...                                                ...   \n",
              "384  subject131      Yo no me considero narcisista solo pregunte .   \n",
              "385  subject131  Y no respondes xq consideras q ser enfermo y d...   \n",
              "386  subject131                                Es real q se mueren   \n",
              "387  subject131                                Incitan a la muerte   \n",
              "388  subject131                               Sino lo hacen sano .   \n",
              "\n",
              "                    Date  \n",
              "0    2020-04-06 20:09:21  \n",
              "1    2020-04-06 20:35:02  \n",
              "2    2020-04-06 20:41:53  \n",
              "3    2020-04-06 20:48:32  \n",
              "4    2020-04-06 21:13:25  \n",
              "..                   ...  \n",
              "384  2022-02-15 19:20:32  \n",
              "385  2022-02-15 19:21:28  \n",
              "386  2022-02-15 19:22:20  \n",
              "387  2022-02-15 19:22:29  \n",
              "388  2022-02-15 19:22:52  \n",
              "\n",
              "[389 rows x 3 columns]"
            ],
            "text/html": [
              "\n",
              "  <div id=\"df-1e2ca1fd-6ae5-455e-963a-f3b7acc22852\">\n",
              "    <div class=\"colab-df-container\">\n",
              "      <div>\n",
              "<style scoped>\n",
              "    .dataframe tbody tr th:only-of-type {\n",
              "        vertical-align: middle;\n",
              "    }\n",
              "\n",
              "    .dataframe tbody tr th {\n",
              "        vertical-align: top;\n",
              "    }\n",
              "\n",
              "    .dataframe thead th {\n",
              "        text-align: right;\n",
              "    }\n",
              "</style>\n",
              "<table border=\"1\" class=\"dataframe\">\n",
              "  <thead>\n",
              "    <tr style=\"text-align: right;\">\n",
              "      <th></th>\n",
              "      <th>Patient ID</th>\n",
              "      <th>Message</th>\n",
              "      <th>Date</th>\n",
              "    </tr>\n",
              "  </thead>\n",
              "  <tbody>\n",
              "    <tr>\n",
              "      <th>0</th>\n",
              "      <td>subject101</td>\n",
              "      <td>Jajaja bien y vos ? ?</td>\n",
              "      <td>2020-04-06 20:09:21</td>\n",
              "    </tr>\n",
              "    <tr>\n",
              "      <th>1</th>\n",
              "      <td>subject101</td>\n",
              "      <td>Toca en donde dice ana y mia</td>\n",
              "      <td>2020-04-06 20:35:02</td>\n",
              "    </tr>\n",
              "    <tr>\n",
              "      <th>2</th>\n",
              "      <td>subject101</td>\n",
              "      <td>Okey bien corazón rojo corazón rojo</td>\n",
              "      <td>2020-04-06 20:41:53</td>\n",
              "    </tr>\n",
              "    <tr>\n",
              "      <th>3</th>\n",
              "      <td>subject101</td>\n",
              "      <td>Bueno cualquier cosa ya sabes donde pedir ayuda</td>\n",
              "      <td>2020-04-06 20:48:32</td>\n",
              "    </tr>\n",
              "    <tr>\n",
              "      <th>4</th>\n",
              "      <td>subject101</td>\n",
              "      <td>Bueno yo me llamo candela mi edad es 14 creo q...</td>\n",
              "      <td>2020-04-06 21:13:25</td>\n",
              "    </tr>\n",
              "    <tr>\n",
              "      <th>...</th>\n",
              "      <td>...</td>\n",
              "      <td>...</td>\n",
              "      <td>...</td>\n",
              "    </tr>\n",
              "    <tr>\n",
              "      <th>384</th>\n",
              "      <td>subject131</td>\n",
              "      <td>Yo no me considero narcisista solo pregunte .</td>\n",
              "      <td>2022-02-15 19:20:32</td>\n",
              "    </tr>\n",
              "    <tr>\n",
              "      <th>385</th>\n",
              "      <td>subject131</td>\n",
              "      <td>Y no respondes xq consideras q ser enfermo y d...</td>\n",
              "      <td>2022-02-15 19:21:28</td>\n",
              "    </tr>\n",
              "    <tr>\n",
              "      <th>386</th>\n",
              "      <td>subject131</td>\n",
              "      <td>Es real q se mueren</td>\n",
              "      <td>2022-02-15 19:22:20</td>\n",
              "    </tr>\n",
              "    <tr>\n",
              "      <th>387</th>\n",
              "      <td>subject131</td>\n",
              "      <td>Incitan a la muerte</td>\n",
              "      <td>2022-02-15 19:22:29</td>\n",
              "    </tr>\n",
              "    <tr>\n",
              "      <th>388</th>\n",
              "      <td>subject131</td>\n",
              "      <td>Sino lo hacen sano .</td>\n",
              "      <td>2022-02-15 19:22:52</td>\n",
              "    </tr>\n",
              "  </tbody>\n",
              "</table>\n",
              "<p>389 rows × 3 columns</p>\n",
              "</div>\n",
              "      <button class=\"colab-df-convert\" onclick=\"convertToInteractive('df-1e2ca1fd-6ae5-455e-963a-f3b7acc22852')\"\n",
              "              title=\"Convert this dataframe to an interactive table.\"\n",
              "              style=\"display:none;\">\n",
              "        \n",
              "  <svg xmlns=\"http://www.w3.org/2000/svg\" height=\"24px\"viewBox=\"0 0 24 24\"\n",
              "       width=\"24px\">\n",
              "    <path d=\"M0 0h24v24H0V0z\" fill=\"none\"/>\n",
              "    <path d=\"M18.56 5.44l.94 2.06.94-2.06 2.06-.94-2.06-.94-.94-2.06-.94 2.06-2.06.94zm-11 1L8.5 8.5l.94-2.06 2.06-.94-2.06-.94L8.5 2.5l-.94 2.06-2.06.94zm10 10l.94 2.06.94-2.06 2.06-.94-2.06-.94-.94-2.06-.94 2.06-2.06.94z\"/><path d=\"M17.41 7.96l-1.37-1.37c-.4-.4-.92-.59-1.43-.59-.52 0-1.04.2-1.43.59L10.3 9.45l-7.72 7.72c-.78.78-.78 2.05 0 2.83L4 21.41c.39.39.9.59 1.41.59.51 0 1.02-.2 1.41-.59l7.78-7.78 2.81-2.81c.8-.78.8-2.07 0-2.86zM5.41 20L4 18.59l7.72-7.72 1.47 1.35L5.41 20z\"/>\n",
              "  </svg>\n",
              "      </button>\n",
              "      \n",
              "  <style>\n",
              "    .colab-df-container {\n",
              "      display:flex;\n",
              "      flex-wrap:wrap;\n",
              "      gap: 12px;\n",
              "    }\n",
              "\n",
              "    .colab-df-convert {\n",
              "      background-color: #E8F0FE;\n",
              "      border: none;\n",
              "      border-radius: 50%;\n",
              "      cursor: pointer;\n",
              "      display: none;\n",
              "      fill: #1967D2;\n",
              "      height: 32px;\n",
              "      padding: 0 0 0 0;\n",
              "      width: 32px;\n",
              "    }\n",
              "\n",
              "    .colab-df-convert:hover {\n",
              "      background-color: #E2EBFA;\n",
              "      box-shadow: 0px 1px 2px rgba(60, 64, 67, 0.3), 0px 1px 3px 1px rgba(60, 64, 67, 0.15);\n",
              "      fill: #174EA6;\n",
              "    }\n",
              "\n",
              "    [theme=dark] .colab-df-convert {\n",
              "      background-color: #3B4455;\n",
              "      fill: #D2E3FC;\n",
              "    }\n",
              "\n",
              "    [theme=dark] .colab-df-convert:hover {\n",
              "      background-color: #434B5C;\n",
              "      box-shadow: 0px 1px 3px 1px rgba(0, 0, 0, 0.15);\n",
              "      filter: drop-shadow(0px 1px 2px rgba(0, 0, 0, 0.3));\n",
              "      fill: #FFFFFF;\n",
              "    }\n",
              "  </style>\n",
              "\n",
              "      <script>\n",
              "        const buttonEl =\n",
              "          document.querySelector('#df-1e2ca1fd-6ae5-455e-963a-f3b7acc22852 button.colab-df-convert');\n",
              "        buttonEl.style.display =\n",
              "          google.colab.kernel.accessAllowed ? 'block' : 'none';\n",
              "\n",
              "        async function convertToInteractive(key) {\n",
              "          const element = document.querySelector('#df-1e2ca1fd-6ae5-455e-963a-f3b7acc22852');\n",
              "          const dataTable =\n",
              "            await google.colab.kernel.invokeFunction('convertToInteractive',\n",
              "                                                     [key], {});\n",
              "          if (!dataTable) return;\n",
              "\n",
              "          const docLinkHtml = 'Like what you see? Visit the ' +\n",
              "            '<a target=\"_blank\" href=https://colab.research.google.com/notebooks/data_table.ipynb>data table notebook</a>'\n",
              "            + ' to learn more about interactive tables.';\n",
              "          element.innerHTML = '';\n",
              "          dataTable['output_type'] = 'display_data';\n",
              "          await google.colab.output.renderOutput(dataTable, element);\n",
              "          const docLink = document.createElement('div');\n",
              "          docLink.innerHTML = docLinkHtml;\n",
              "          element.appendChild(docLink);\n",
              "        }\n",
              "      </script>\n",
              "    </div>\n",
              "  </div>\n",
              "  "
            ]
          },
          "metadata": {},
          "execution_count": 7
        }
      ]
    },
    {
      "cell_type": "markdown",
      "source": [
        "Instalamos la biblioteca de Hugging Face"
      ],
      "metadata": {
        "id": "X_FhlqvfedVN"
      }
    },
    {
      "cell_type": "code",
      "execution_count": 2,
      "metadata": {
        "id": "r32pxCNYCY0c",
        "colab": {
          "base_uri": "https://localhost:8080/"
        },
        "outputId": "79a2deb2-69df-4952-be4c-bc2a118d662c"
      },
      "outputs": [
        {
          "output_type": "stream",
          "name": "stdout",
          "text": [
            "Successfully installed huggingface-hub-0.14.1 tokenizers-0.13.3 transformers-4.28.1\n"
          ]
        }
      ],
      "source": [
        "!pip install transformers"
      ]
    },
    {
      "cell_type": "markdown",
      "source": [
        "El modelo elegido es BETO. BETO es un modelo BERT entrenado con un gran corpus enespañol. BETO tiene un tamaño similar a un BERT-Base y fue entrenado con la técnica de masking de palabras completas. El link a la descripción del modelo [aquí](https://huggingface.co/dccuchile/bert-base-spanish-wwm-uncased)."
      ],
      "metadata": {
        "id": "EH23jF-90YN8"
      }
    },
    {
      "cell_type": "markdown",
      "source": [
        "### Tokenización "
      ],
      "metadata": {
        "id": "iVsJ0riywGjz"
      }
    },
    {
      "cell_type": "code",
      "source": [
        "#Importamos librerias\n",
        "import torch\n",
        "from transformers import AutoTokenizer, AutoModel"
      ],
      "metadata": {
        "id": "PQvNkIZDw4aL"
      },
      "execution_count": 3,
      "outputs": []
    },
    {
      "cell_type": "code",
      "source": [
        "# Inicializamos el tokenizador.\n",
        "model_ckpt = \"dccuchile/bert-base-spanish-wwm-uncased\"\n",
        "tokenizer = AutoTokenizer.from_pretrained(model_ckpt)"
      ],
      "metadata": {
        "colab": {
          "base_uri": "https://localhost:8080/",
          "height": 177,
          "referenced_widgets": [
            "d52cfd93336f4512919c2cf9e3ffa805",
            "10d1a72e3f2347e0bdd65cadf44c5e5c",
            "c0a6e3ec35fe4746984e777165ad2094",
            "58c88c7dbe82434e9823f066bbf811a8",
            "8a60bad352574d438ec210f6978026c7",
            "d94f37e453c54014b4ff3f18eaf945de",
            "eec90f40b7d5401abb988b6ab6b9cc7b",
            "255ec6c393fe49cea0e4b990b90d05de",
            "f341913b2a964c558de7dee7576d89f4",
            "857cbc794d3f4ed9b1477c27ded46817",
            "e7fbc346d11e4f5497bea5984c0c3c22",
            "b362428eb1b448fdba31ffae7937599c",
            "404fc2de0cb54df5bb25c6b75fef9832",
            "d2327a6178cc4bb1bb734dcd4f8c6591",
            "01bc746a1a34497bb25b3f4574fd50cd",
            "6f45afa2c1c14a54bc7870fccfc8067d",
            "86a508d6a4b74529ab61d1098ff142b2",
            "0b5f8c6fbea643199e807d9f5bf4fcc4",
            "d761648293d44a4788638341491b852a",
            "61a7923957a74c589bb45a1eb31dbbff",
            "50dd7b3d07b5482692138e62cf94eaf4",
            "d1ef6021692f472fb2cb8067ae09418d",
            "e1c11fe6efc84cc2bb29d010b1ca8ab2",
            "96109866d28c4acda29f7d10f2948bdb",
            "a15062f450b3416bb239ecfbec76979b",
            "3dd96641c35b48aaa9fbb6d0be0f81a7",
            "33093eaf78384b6296cecc48dd2417d0",
            "6fa9a848605241fabbc242fabbfd5a3c",
            "df8e210289ad4449a6aac9e82756d0be",
            "09218daca84b4359abc0004ec6e065b7",
            "5a2c6e722d04425ebf147b2c65616ebf",
            "9d0aeff3f0d245ce9b391e65107c76b0",
            "28873863b52b4861a5e945c558769483",
            "3639e8ef3bda4d05846de64c84c1091b",
            "4b680f7d3e734c5caed595a4c8282878",
            "378776646b17426798940b817ca383fc",
            "c7a9d6b92b9648e68e2d2dc7cda1bcb8",
            "7cc2abdb972d42078119ae7d1c85c95a",
            "a726ac781beb4fe9bc0fbb1c697a2526",
            "5dd4c50cea054cae92ee181fffd5a5ea",
            "76648710887545e39319faf60f866bbf",
            "1a309994d6a34282be8c45310570302f",
            "df9c233ffb584f6089adfd2921f93d84",
            "7202788478f1487ba294e4348dc0feb9",
            "91d5390e40474b72a8b14c8e9df1663d",
            "9cdb0907f61f4c52be947a4e02174943",
            "f9f3542f957a44f0ad5c2dad9af63979",
            "b054d1ac947e4ec8b73f3bd9d22b80b0",
            "c8f003eaf1ad4e3688be29c5bf617873",
            "f5cd2b69d4004f618dc9ad04b1134d2d",
            "aff0cf965f094860843af1374844f08e",
            "347c25934fde440aa3a9fdf6ccae2ec7",
            "4a19b361548a433b8044cab794ee76e0",
            "eb17c82dba2c42bc8378d217683621be",
            "4f81bfe19f524dd39502cb3171b601d7"
          ]
        },
        "id": "ro9LJIEtxKyQ",
        "outputId": "71f26533-564e-4f12-85a7-9eb35b7e9a85"
      },
      "execution_count": 4,
      "outputs": [
        {
          "output_type": "display_data",
          "data": {
            "text/plain": [
              "Downloading (…)okenizer_config.json:   0%|          | 0.00/310 [00:00<?, ?B/s]"
            ],
            "application/vnd.jupyter.widget-view+json": {
              "version_major": 2,
              "version_minor": 0,
              "model_id": "d52cfd93336f4512919c2cf9e3ffa805"
            }
          },
          "metadata": {}
        },
        {
          "output_type": "display_data",
          "data": {
            "text/plain": [
              "Downloading (…)lve/main/config.json:   0%|          | 0.00/650 [00:00<?, ?B/s]"
            ],
            "application/vnd.jupyter.widget-view+json": {
              "version_major": 2,
              "version_minor": 0,
              "model_id": "b362428eb1b448fdba31ffae7937599c"
            }
          },
          "metadata": {}
        },
        {
          "output_type": "display_data",
          "data": {
            "text/plain": [
              "Downloading (…)solve/main/vocab.txt:   0%|          | 0.00/248k [00:00<?, ?B/s]"
            ],
            "application/vnd.jupyter.widget-view+json": {
              "version_major": 2,
              "version_minor": 0,
              "model_id": "e1c11fe6efc84cc2bb29d010b1ca8ab2"
            }
          },
          "metadata": {}
        },
        {
          "output_type": "display_data",
          "data": {
            "text/plain": [
              "Downloading (…)/main/tokenizer.json:   0%|          | 0.00/486k [00:00<?, ?B/s]"
            ],
            "application/vnd.jupyter.widget-view+json": {
              "version_major": 2,
              "version_minor": 0,
              "model_id": "3639e8ef3bda4d05846de64c84c1091b"
            }
          },
          "metadata": {}
        },
        {
          "output_type": "display_data",
          "data": {
            "text/plain": [
              "Downloading (…)cial_tokens_map.json:   0%|          | 0.00/134 [00:00<?, ?B/s]"
            ],
            "application/vnd.jupyter.widget-view+json": {
              "version_major": 2,
              "version_minor": 0,
              "model_id": "91d5390e40474b72a8b14c8e9df1663d"
            }
          },
          "metadata": {}
        }
      ]
    },
    {
      "cell_type": "markdown",
      "source": [
        "Creamos un JSON con los batches pertenecientes a los mensajes tokenizados."
      ],
      "metadata": {
        "id": "rUywn-fD-X3e"
      }
    },
    {
      "cell_type": "code",
      "source": [
        "# Serializing json\n",
        "tokenized_messages = dict(tokenizer(df[\"Message\"].tolist()))\n",
        "json_object = json.dumps(tokenized_messages,)\n",
        " \n",
        "with open('tokenized_messages.json', \"w\") as outfile:\n",
        "    outfile.write(json_object)"
      ],
      "metadata": {
        "id": "l5Xms4Ie6NH1"
      },
      "execution_count": 66,
      "outputs": []
    },
    {
      "cell_type": "markdown",
      "source": [
        "Le aplicamos un mensaje al clasificador como ejemplo."
      ],
      "metadata": {
        "id": "GqR6386N7QO9"
      }
    },
    {
      "cell_type": "code",
      "source": [
        "text= 'Okey bien botecito corazóncito'\n",
        "encoded_text = tokenizer(text)\n",
        "\n",
        "print(encoded_text)"
      ],
      "metadata": {
        "colab": {
          "base_uri": "https://localhost:8080/"
        },
        "id": "MS3n1-v91MQq",
        "outputId": "ff94e6c5-4cb7-4021-d5f0-a946ab6e808e"
      },
      "execution_count": 5,
      "outputs": [
        {
          "output_type": "stream",
          "name": "stdout",
          "text": [
            "{'input_ids': [4, 3829, 6921, 1214, 2998, 5552, 2998, 5552, 5], 'token_type_ids': [0, 0, 0, 0, 0, 0, 0, 0, 0], 'attention_mask': [1, 1, 1, 1, 1, 1, 1, 1, 1]}\n"
          ]
        }
      ]
    },
    {
      "cell_type": "markdown",
      "source": [
        "Las palabras fueron mapeadas a enteros no repetidos en el campo de `input_ids`. Teniendo dicho formato, los podemos regresar a tokns usando el método de `convert_ids_to_tokens()`. "
      ],
      "metadata": {
        "id": "pCLeDC3A1uU0"
      }
    },
    {
      "cell_type": "code",
      "source": [
        "tokens = tokenizer.convert_ids_to_tokens(encoded_text.input_ids)\n",
        "print(tokens)"
      ],
      "metadata": {
        "colab": {
          "base_uri": "https://localhost:8080/"
        },
        "id": "0SYfpMqZ2LKP",
        "outputId": "ee1a9c08-7e0e-42b7-e15d-acc206c2675c"
      },
      "execution_count": 51,
      "outputs": [
        {
          "output_type": "stream",
          "name": "stdout",
          "text": [
            "['[CLS]', 'ok', '##ey', 'bien', 'corazón', 'rojo', 'corazón', 'rojo', '[SEP]']\n"
          ]
        }
      ]
    },
    {
      "cell_type": "markdown",
      "source": [
        "Aquí podemos observar tres cosas. En primer lugar, se añadieron algunos tokens especiales [CLS] y [SEP] al principio y al final de la secuencia. Estos símbolos difieren de un modelo a otro modelo, pero su función principal es indicar el inicio y el final de una secuencia. En segundo lugar, los símbolos en minúsculas, una característica de este punto de control. Por último, podemos ver que \"ok\" y \"ey\" se han dividido en dos tokens, lo que tiene sentido, ya que no son palabras comunes."
      ],
      "metadata": {
        "id": "ugRh2gzTCY7z"
      }
    },
    {
      "cell_type": "markdown",
      "source": [
        "## Clasificación"
      ],
      "metadata": {
        "id": "TxsN6kvP5E-I"
      }
    },
    {
      "cell_type": "markdown",
      "source": [
        "Para continuar con la tarea de clasificación, unimos el DataFrame de las las etiquetas y los mensajes de los sujetos para crear un único DataFrame. "
      ],
      "metadata": {
        "id": "PX1JpWGsAKB4"
      }
    },
    {
      "cell_type": "code",
      "source": [
        "labels_df = pd.read_csv('task1_gold_a.txt')\n",
        "labels_df"
      ],
      "metadata": {
        "colab": {
          "base_uri": "https://localhost:8080/",
          "height": 363
        },
        "id": "XeN5zQL75GbR",
        "outputId": "746a0809-d10f-4437-b7f6-2dff87462265"
      },
      "execution_count": 10,
      "outputs": [
        {
          "output_type": "execute_result",
          "data": {
            "text/plain": [
              "      Subject  label\n",
              "0    subject1      1\n",
              "1   subject10      1\n",
              "2  subject100      1\n",
              "3  subject101      1\n",
              "4  subject102      1\n",
              "5  subject104      0\n",
              "6  subject131      0\n",
              "7  subject138      0\n",
              "8  subject139      0\n",
              "9  subject140      0"
            ],
            "text/html": [
              "\n",
              "  <div id=\"df-d82c388f-c2f3-46dc-82b8-2b0d20425e59\">\n",
              "    <div class=\"colab-df-container\">\n",
              "      <div>\n",
              "<style scoped>\n",
              "    .dataframe tbody tr th:only-of-type {\n",
              "        vertical-align: middle;\n",
              "    }\n",
              "\n",
              "    .dataframe tbody tr th {\n",
              "        vertical-align: top;\n",
              "    }\n",
              "\n",
              "    .dataframe thead th {\n",
              "        text-align: right;\n",
              "    }\n",
              "</style>\n",
              "<table border=\"1\" class=\"dataframe\">\n",
              "  <thead>\n",
              "    <tr style=\"text-align: right;\">\n",
              "      <th></th>\n",
              "      <th>Subject</th>\n",
              "      <th>label</th>\n",
              "    </tr>\n",
              "  </thead>\n",
              "  <tbody>\n",
              "    <tr>\n",
              "      <th>0</th>\n",
              "      <td>subject1</td>\n",
              "      <td>1</td>\n",
              "    </tr>\n",
              "    <tr>\n",
              "      <th>1</th>\n",
              "      <td>subject10</td>\n",
              "      <td>1</td>\n",
              "    </tr>\n",
              "    <tr>\n",
              "      <th>2</th>\n",
              "      <td>subject100</td>\n",
              "      <td>1</td>\n",
              "    </tr>\n",
              "    <tr>\n",
              "      <th>3</th>\n",
              "      <td>subject101</td>\n",
              "      <td>1</td>\n",
              "    </tr>\n",
              "    <tr>\n",
              "      <th>4</th>\n",
              "      <td>subject102</td>\n",
              "      <td>1</td>\n",
              "    </tr>\n",
              "    <tr>\n",
              "      <th>5</th>\n",
              "      <td>subject104</td>\n",
              "      <td>0</td>\n",
              "    </tr>\n",
              "    <tr>\n",
              "      <th>6</th>\n",
              "      <td>subject131</td>\n",
              "      <td>0</td>\n",
              "    </tr>\n",
              "    <tr>\n",
              "      <th>7</th>\n",
              "      <td>subject138</td>\n",
              "      <td>0</td>\n",
              "    </tr>\n",
              "    <tr>\n",
              "      <th>8</th>\n",
              "      <td>subject139</td>\n",
              "      <td>0</td>\n",
              "    </tr>\n",
              "    <tr>\n",
              "      <th>9</th>\n",
              "      <td>subject140</td>\n",
              "      <td>0</td>\n",
              "    </tr>\n",
              "  </tbody>\n",
              "</table>\n",
              "</div>\n",
              "      <button class=\"colab-df-convert\" onclick=\"convertToInteractive('df-d82c388f-c2f3-46dc-82b8-2b0d20425e59')\"\n",
              "              title=\"Convert this dataframe to an interactive table.\"\n",
              "              style=\"display:none;\">\n",
              "        \n",
              "  <svg xmlns=\"http://www.w3.org/2000/svg\" height=\"24px\"viewBox=\"0 0 24 24\"\n",
              "       width=\"24px\">\n",
              "    <path d=\"M0 0h24v24H0V0z\" fill=\"none\"/>\n",
              "    <path d=\"M18.56 5.44l.94 2.06.94-2.06 2.06-.94-2.06-.94-.94-2.06-.94 2.06-2.06.94zm-11 1L8.5 8.5l.94-2.06 2.06-.94-2.06-.94L8.5 2.5l-.94 2.06-2.06.94zm10 10l.94 2.06.94-2.06 2.06-.94-2.06-.94-.94-2.06-.94 2.06-2.06.94z\"/><path d=\"M17.41 7.96l-1.37-1.37c-.4-.4-.92-.59-1.43-.59-.52 0-1.04.2-1.43.59L10.3 9.45l-7.72 7.72c-.78.78-.78 2.05 0 2.83L4 21.41c.39.39.9.59 1.41.59.51 0 1.02-.2 1.41-.59l7.78-7.78 2.81-2.81c.8-.78.8-2.07 0-2.86zM5.41 20L4 18.59l7.72-7.72 1.47 1.35L5.41 20z\"/>\n",
              "  </svg>\n",
              "      </button>\n",
              "      \n",
              "  <style>\n",
              "    .colab-df-container {\n",
              "      display:flex;\n",
              "      flex-wrap:wrap;\n",
              "      gap: 12px;\n",
              "    }\n",
              "\n",
              "    .colab-df-convert {\n",
              "      background-color: #E8F0FE;\n",
              "      border: none;\n",
              "      border-radius: 50%;\n",
              "      cursor: pointer;\n",
              "      display: none;\n",
              "      fill: #1967D2;\n",
              "      height: 32px;\n",
              "      padding: 0 0 0 0;\n",
              "      width: 32px;\n",
              "    }\n",
              "\n",
              "    .colab-df-convert:hover {\n",
              "      background-color: #E2EBFA;\n",
              "      box-shadow: 0px 1px 2px rgba(60, 64, 67, 0.3), 0px 1px 3px 1px rgba(60, 64, 67, 0.15);\n",
              "      fill: #174EA6;\n",
              "    }\n",
              "\n",
              "    [theme=dark] .colab-df-convert {\n",
              "      background-color: #3B4455;\n",
              "      fill: #D2E3FC;\n",
              "    }\n",
              "\n",
              "    [theme=dark] .colab-df-convert:hover {\n",
              "      background-color: #434B5C;\n",
              "      box-shadow: 0px 1px 3px 1px rgba(0, 0, 0, 0.15);\n",
              "      filter: drop-shadow(0px 1px 2px rgba(0, 0, 0, 0.3));\n",
              "      fill: #FFFFFF;\n",
              "    }\n",
              "  </style>\n",
              "\n",
              "      <script>\n",
              "        const buttonEl =\n",
              "          document.querySelector('#df-d82c388f-c2f3-46dc-82b8-2b0d20425e59 button.colab-df-convert');\n",
              "        buttonEl.style.display =\n",
              "          google.colab.kernel.accessAllowed ? 'block' : 'none';\n",
              "\n",
              "        async function convertToInteractive(key) {\n",
              "          const element = document.querySelector('#df-d82c388f-c2f3-46dc-82b8-2b0d20425e59');\n",
              "          const dataTable =\n",
              "            await google.colab.kernel.invokeFunction('convertToInteractive',\n",
              "                                                     [key], {});\n",
              "          if (!dataTable) return;\n",
              "\n",
              "          const docLinkHtml = 'Like what you see? Visit the ' +\n",
              "            '<a target=\"_blank\" href=https://colab.research.google.com/notebooks/data_table.ipynb>data table notebook</a>'\n",
              "            + ' to learn more about interactive tables.';\n",
              "          element.innerHTML = '';\n",
              "          dataTable['output_type'] = 'display_data';\n",
              "          await google.colab.output.renderOutput(dataTable, element);\n",
              "          const docLink = document.createElement('div');\n",
              "          docLink.innerHTML = docLinkHtml;\n",
              "          element.appendChild(docLink);\n",
              "        }\n",
              "      </script>\n",
              "    </div>\n",
              "  </div>\n",
              "  "
            ]
          },
          "metadata": {},
          "execution_count": 10
        }
      ]
    },
    {
      "cell_type": "code",
      "source": [
        "# Join the two dataframes on the name column.\n",
        "df_new = df.merge(labels_df, left_on=\"Patient ID\", right_on=\"Subject\")\n",
        "df_new.drop(columns=['Subject'], inplace=True)\n",
        "\n",
        "# Display the joined dataframe.\n",
        "df_new"
      ],
      "metadata": {
        "colab": {
          "base_uri": "https://localhost:8080/",
          "height": 424
        },
        "id": "IOJwWZVI_SOO",
        "outputId": "e7cf6860-464a-4e55-bbc9-cb7517f5da24"
      },
      "execution_count": 16,
      "outputs": [
        {
          "output_type": "execute_result",
          "data": {
            "text/plain": [
              "     Patient ID                                            Message  \\\n",
              "0    subject101                              Jajaja bien y vos ? ?   \n",
              "1    subject101                       Toca en donde dice ana y mia   \n",
              "2    subject101                Okey bien corazón rojo corazón rojo   \n",
              "3    subject101    Bueno cualquier cosa ya sabes donde pedir ayuda   \n",
              "4    subject101  Bueno yo me llamo candela mi edad es 14 creo q...   \n",
              "..          ...                                                ...   \n",
              "384  subject131      Yo no me considero narcisista solo pregunte .   \n",
              "385  subject131  Y no respondes xq consideras q ser enfermo y d...   \n",
              "386  subject131                                Es real q se mueren   \n",
              "387  subject131                                Incitan a la muerte   \n",
              "388  subject131                               Sino lo hacen sano .   \n",
              "\n",
              "                    Date  label  \n",
              "0    2020-04-06 20:09:21      1  \n",
              "1    2020-04-06 20:35:02      1  \n",
              "2    2020-04-06 20:41:53      1  \n",
              "3    2020-04-06 20:48:32      1  \n",
              "4    2020-04-06 21:13:25      1  \n",
              "..                   ...    ...  \n",
              "384  2022-02-15 19:20:32      0  \n",
              "385  2022-02-15 19:21:28      0  \n",
              "386  2022-02-15 19:22:20      0  \n",
              "387  2022-02-15 19:22:29      0  \n",
              "388  2022-02-15 19:22:52      0  \n",
              "\n",
              "[389 rows x 4 columns]"
            ],
            "text/html": [
              "\n",
              "  <div id=\"df-14d70d18-8ae4-4588-b354-aef0537e979d\">\n",
              "    <div class=\"colab-df-container\">\n",
              "      <div>\n",
              "<style scoped>\n",
              "    .dataframe tbody tr th:only-of-type {\n",
              "        vertical-align: middle;\n",
              "    }\n",
              "\n",
              "    .dataframe tbody tr th {\n",
              "        vertical-align: top;\n",
              "    }\n",
              "\n",
              "    .dataframe thead th {\n",
              "        text-align: right;\n",
              "    }\n",
              "</style>\n",
              "<table border=\"1\" class=\"dataframe\">\n",
              "  <thead>\n",
              "    <tr style=\"text-align: right;\">\n",
              "      <th></th>\n",
              "      <th>Patient ID</th>\n",
              "      <th>Message</th>\n",
              "      <th>Date</th>\n",
              "      <th>label</th>\n",
              "    </tr>\n",
              "  </thead>\n",
              "  <tbody>\n",
              "    <tr>\n",
              "      <th>0</th>\n",
              "      <td>subject101</td>\n",
              "      <td>Jajaja bien y vos ? ?</td>\n",
              "      <td>2020-04-06 20:09:21</td>\n",
              "      <td>1</td>\n",
              "    </tr>\n",
              "    <tr>\n",
              "      <th>1</th>\n",
              "      <td>subject101</td>\n",
              "      <td>Toca en donde dice ana y mia</td>\n",
              "      <td>2020-04-06 20:35:02</td>\n",
              "      <td>1</td>\n",
              "    </tr>\n",
              "    <tr>\n",
              "      <th>2</th>\n",
              "      <td>subject101</td>\n",
              "      <td>Okey bien corazón rojo corazón rojo</td>\n",
              "      <td>2020-04-06 20:41:53</td>\n",
              "      <td>1</td>\n",
              "    </tr>\n",
              "    <tr>\n",
              "      <th>3</th>\n",
              "      <td>subject101</td>\n",
              "      <td>Bueno cualquier cosa ya sabes donde pedir ayuda</td>\n",
              "      <td>2020-04-06 20:48:32</td>\n",
              "      <td>1</td>\n",
              "    </tr>\n",
              "    <tr>\n",
              "      <th>4</th>\n",
              "      <td>subject101</td>\n",
              "      <td>Bueno yo me llamo candela mi edad es 14 creo q...</td>\n",
              "      <td>2020-04-06 21:13:25</td>\n",
              "      <td>1</td>\n",
              "    </tr>\n",
              "    <tr>\n",
              "      <th>...</th>\n",
              "      <td>...</td>\n",
              "      <td>...</td>\n",
              "      <td>...</td>\n",
              "      <td>...</td>\n",
              "    </tr>\n",
              "    <tr>\n",
              "      <th>384</th>\n",
              "      <td>subject131</td>\n",
              "      <td>Yo no me considero narcisista solo pregunte .</td>\n",
              "      <td>2022-02-15 19:20:32</td>\n",
              "      <td>0</td>\n",
              "    </tr>\n",
              "    <tr>\n",
              "      <th>385</th>\n",
              "      <td>subject131</td>\n",
              "      <td>Y no respondes xq consideras q ser enfermo y d...</td>\n",
              "      <td>2022-02-15 19:21:28</td>\n",
              "      <td>0</td>\n",
              "    </tr>\n",
              "    <tr>\n",
              "      <th>386</th>\n",
              "      <td>subject131</td>\n",
              "      <td>Es real q se mueren</td>\n",
              "      <td>2022-02-15 19:22:20</td>\n",
              "      <td>0</td>\n",
              "    </tr>\n",
              "    <tr>\n",
              "      <th>387</th>\n",
              "      <td>subject131</td>\n",
              "      <td>Incitan a la muerte</td>\n",
              "      <td>2022-02-15 19:22:29</td>\n",
              "      <td>0</td>\n",
              "    </tr>\n",
              "    <tr>\n",
              "      <th>388</th>\n",
              "      <td>subject131</td>\n",
              "      <td>Sino lo hacen sano .</td>\n",
              "      <td>2022-02-15 19:22:52</td>\n",
              "      <td>0</td>\n",
              "    </tr>\n",
              "  </tbody>\n",
              "</table>\n",
              "<p>389 rows × 4 columns</p>\n",
              "</div>\n",
              "      <button class=\"colab-df-convert\" onclick=\"convertToInteractive('df-14d70d18-8ae4-4588-b354-aef0537e979d')\"\n",
              "              title=\"Convert this dataframe to an interactive table.\"\n",
              "              style=\"display:none;\">\n",
              "        \n",
              "  <svg xmlns=\"http://www.w3.org/2000/svg\" height=\"24px\"viewBox=\"0 0 24 24\"\n",
              "       width=\"24px\">\n",
              "    <path d=\"M0 0h24v24H0V0z\" fill=\"none\"/>\n",
              "    <path d=\"M18.56 5.44l.94 2.06.94-2.06 2.06-.94-2.06-.94-.94-2.06-.94 2.06-2.06.94zm-11 1L8.5 8.5l.94-2.06 2.06-.94-2.06-.94L8.5 2.5l-.94 2.06-2.06.94zm10 10l.94 2.06.94-2.06 2.06-.94-2.06-.94-.94-2.06-.94 2.06-2.06.94z\"/><path d=\"M17.41 7.96l-1.37-1.37c-.4-.4-.92-.59-1.43-.59-.52 0-1.04.2-1.43.59L10.3 9.45l-7.72 7.72c-.78.78-.78 2.05 0 2.83L4 21.41c.39.39.9.59 1.41.59.51 0 1.02-.2 1.41-.59l7.78-7.78 2.81-2.81c.8-.78.8-2.07 0-2.86zM5.41 20L4 18.59l7.72-7.72 1.47 1.35L5.41 20z\"/>\n",
              "  </svg>\n",
              "      </button>\n",
              "      \n",
              "  <style>\n",
              "    .colab-df-container {\n",
              "      display:flex;\n",
              "      flex-wrap:wrap;\n",
              "      gap: 12px;\n",
              "    }\n",
              "\n",
              "    .colab-df-convert {\n",
              "      background-color: #E8F0FE;\n",
              "      border: none;\n",
              "      border-radius: 50%;\n",
              "      cursor: pointer;\n",
              "      display: none;\n",
              "      fill: #1967D2;\n",
              "      height: 32px;\n",
              "      padding: 0 0 0 0;\n",
              "      width: 32px;\n",
              "    }\n",
              "\n",
              "    .colab-df-convert:hover {\n",
              "      background-color: #E2EBFA;\n",
              "      box-shadow: 0px 1px 2px rgba(60, 64, 67, 0.3), 0px 1px 3px 1px rgba(60, 64, 67, 0.15);\n",
              "      fill: #174EA6;\n",
              "    }\n",
              "\n",
              "    [theme=dark] .colab-df-convert {\n",
              "      background-color: #3B4455;\n",
              "      fill: #D2E3FC;\n",
              "    }\n",
              "\n",
              "    [theme=dark] .colab-df-convert:hover {\n",
              "      background-color: #434B5C;\n",
              "      box-shadow: 0px 1px 3px 1px rgba(0, 0, 0, 0.15);\n",
              "      filter: drop-shadow(0px 1px 2px rgba(0, 0, 0, 0.3));\n",
              "      fill: #FFFFFF;\n",
              "    }\n",
              "  </style>\n",
              "\n",
              "      <script>\n",
              "        const buttonEl =\n",
              "          document.querySelector('#df-14d70d18-8ae4-4588-b354-aef0537e979d button.colab-df-convert');\n",
              "        buttonEl.style.display =\n",
              "          google.colab.kernel.accessAllowed ? 'block' : 'none';\n",
              "\n",
              "        async function convertToInteractive(key) {\n",
              "          const element = document.querySelector('#df-14d70d18-8ae4-4588-b354-aef0537e979d');\n",
              "          const dataTable =\n",
              "            await google.colab.kernel.invokeFunction('convertToInteractive',\n",
              "                                                     [key], {});\n",
              "          if (!dataTable) return;\n",
              "\n",
              "          const docLinkHtml = 'Like what you see? Visit the ' +\n",
              "            '<a target=\"_blank\" href=https://colab.research.google.com/notebooks/data_table.ipynb>data table notebook</a>'\n",
              "            + ' to learn more about interactive tables.';\n",
              "          element.innerHTML = '';\n",
              "          dataTable['output_type'] = 'display_data';\n",
              "          await google.colab.output.renderOutput(dataTable, element);\n",
              "          const docLink = document.createElement('div');\n",
              "          docLink.innerHTML = docLinkHtml;\n",
              "          element.appendChild(docLink);\n",
              "        }\n",
              "      </script>\n",
              "    </div>\n",
              "  </div>\n",
              "  "
            ]
          },
          "metadata": {},
          "execution_count": 16
        }
      ]
    },
    {
      "cell_type": "markdown",
      "source": [
        "De esta manera podemos trabajar más ágilmente con la clasificación."
      ],
      "metadata": {
        "id": "K-mTg7hrA2PZ"
      }
    },
    {
      "cell_type": "markdown",
      "source": [
        "Modelos como DistilBERT, BERT y BETO están preentrenados para predecir palabras enmascaradas en una secuencia de texto. Sin embargo, por la arquitectura de su diseño, no podemos utilizar estos modelos directamente para la clasificación de textos; tenemos que modificarlos ligeramente."
      ],
      "metadata": {
        "id": "aOnU-Mgm8DSm"
      }
    },
    {
      "cell_type": "markdown",
      "source": [
        "![cap.jpg](data:image/jpeg;base64,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)"
      ],
      "metadata": {
        "id": "vSHPqpEO8M76"
      }
    },
    {
      "cell_type": "markdown",
      "source": [
        "Tenemos dos opciones para entrenar un modelo de este tipo en nuestro conjunto de datos:\n",
        "1. Extracción de características: Usamos los estados ocultos como características y entrenamos un clasificador con ellos, sin modificar el modelo preentrenado. modificar el modelo preentrenado.\n",
        "\n",
        "2. Fine-tuning: Entrenamos todo el modelo de principio a fin, lo que también actualiza los parámetros del modelo preentrenado. "
      ],
      "metadata": {
        "id": "QyDy0k0j8XD1"
      }
    },
    {
      "cell_type": "markdown",
      "source": [
        "### Extracción de características"
      ],
      "metadata": {
        "id": "rIu9vF3vA_vb"
      }
    },
    {
      "cell_type": "markdown",
      "source": [
        "Pasos\n",
        "\n",
        "1. Extraer los hidden states.\n",
        "2. Crear matriz de características\n",
        "3. Ajustar clasificador"
      ],
      "metadata": {
        "id": "LlOelEB3BZLu"
      }
    },
    {
      "cell_type": "code",
      "source": [
        "model_ckpt = \"dccuchile/bert-base-spanish-wwm-uncased\"\n",
        "device = torch.device(\"cuda\" if torch.cuda.is_available() else \"cpu\")\n",
        "model = AutoModel.from_pretrained(model_ckpt).to(device)"
      ],
      "metadata": {
        "id": "6t4_nM3d-jo7"
      },
      "execution_count": null,
      "outputs": []
    },
    {
      "cell_type": "markdown",
      "source": [
        "### Fine Tuning"
      ],
      "metadata": {
        "id": "Xhmk6X2w-j_-"
      }
    },
    {
      "cell_type": "markdown",
      "source": [
        "Lo primero que necesitamos es un modelo preentrenado como el que utilizamos en el enfoque basado en características. La diferencia es que utilizaremos el modelo AutoModelForSequenceClassification en lugar de AutoModel. El modelo AutoModelForSequenceClassification tiene un head de clasificación sobre las salidas del modelo preentrenado, que puede entrenarse fácilmente con el modelo base. Sólo tenemos que especificar cuántas etiquetas tiene que predecir el modelo (dos en nuestro caso), ya que esto dicta el número de salidas que tiene la clasificación:"
      ],
      "metadata": {
        "id": "Vpna-m2F-Q_r"
      }
    },
    {
      "cell_type": "code",
      "source": [
        "from transformers import AutoModelForSequenceClassification\n",
        "\n",
        "num_labels = 2\n",
        "model = (AutoModelForSequenceClassification .from_pretrained(model_ckpt, num_labels=num_labels).to(device))"
      ],
      "metadata": {
        "id": "CTbvJPny-Tzm"
      },
      "execution_count": null,
      "outputs": []
    },
    {
      "cell_type": "markdown",
      "source": [
        "## Referencias\n",
        "Natural Language Processing with Transformers: Building Language Applications with Hugging Face: Lewis Tunstall, Leandro von Werra, Thomas Wolf. (O'Reilly Media, Incorporated, 2022)\n"
      ],
      "metadata": {
        "id": "k5IivgSdDrGG"
      }
    }
  ]
}